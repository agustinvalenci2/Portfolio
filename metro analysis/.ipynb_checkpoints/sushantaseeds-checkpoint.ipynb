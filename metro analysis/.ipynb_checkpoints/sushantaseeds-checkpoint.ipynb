{
 "cells": [
  {
   "cell_type": "code",
   "execution_count": 1,
   "id": "2ac94f41",
   "metadata": {},
   "outputs": [],
   "source": [
    "# Import necessary libraries\n",
    "import numpy as np  # NumPy is a library for working with large, multi-dimensional arrays and matrices\n",
    "import matplotlib.pyplot as plt  # Matplotlib is a library for creating visualizations of data\n",
    "import pandas as pd  # Pandas is a library for working with tabular data\n",
    "from datetime import datetime  # datetime is a module for working with dates and times\n",
    "import seaborn as sns  # Seaborn is a library for creating more advanced statistical plots\n"
   ]
  },
  {
   "cell_type": "code",
   "execution_count": 2,
   "id": "c28bb4f7",
   "metadata": {},
   "outputs": [],
   "source": [
    "# Load the seeds data from a CSV file into a Pandas dataframe\n",
    "df = pd.read_csv(\"seeds.csv\", low_memory=False)"
   ]
  },
  {
   "cell_type": "code",
   "execution_count": 3,
   "id": "91a72216",
   "metadata": {},
   "outputs": [
    {
     "data": {
      "text/html": [
       "<div>\n",
       "<style scoped>\n",
       "    .dataframe tbody tr th:only-of-type {\n",
       "        vertical-align: middle;\n",
       "    }\n",
       "\n",
       "    .dataframe tbody tr th {\n",
       "        vertical-align: top;\n",
       "    }\n",
       "\n",
       "    .dataframe thead th {\n",
       "        text-align: right;\n",
       "    }\n",
       "</style>\n",
       "<table border=\"1\" class=\"dataframe\">\n",
       "  <thead>\n",
       "    <tr style=\"text-align: right;\">\n",
       "      <th></th>\n",
       "      <th>area</th>\n",
       "      <th>perimeter</th>\n",
       "      <th>compactness</th>\n",
       "      <th>length</th>\n",
       "      <th>width</th>\n",
       "      <th>asymmetry</th>\n",
       "      <th>groove_length</th>\n",
       "    </tr>\n",
       "  </thead>\n",
       "  <tbody>\n",
       "    <tr>\n",
       "      <th>0</th>\n",
       "      <td>15.26</td>\n",
       "      <td>14.84</td>\n",
       "      <td>0.871</td>\n",
       "      <td>5.763</td>\n",
       "      <td>3.312</td>\n",
       "      <td>2.221</td>\n",
       "      <td>5.220</td>\n",
       "    </tr>\n",
       "    <tr>\n",
       "      <th>1</th>\n",
       "      <td>14.88</td>\n",
       "      <td>14.57</td>\n",
       "      <td>0.881</td>\n",
       "      <td>5.554</td>\n",
       "      <td>3.333</td>\n",
       "      <td>1.018</td>\n",
       "      <td>4.956</td>\n",
       "    </tr>\n",
       "    <tr>\n",
       "      <th>2</th>\n",
       "      <td>14.29</td>\n",
       "      <td>14.09</td>\n",
       "      <td>0.905</td>\n",
       "      <td>5.291</td>\n",
       "      <td>3.337</td>\n",
       "      <td>2.699</td>\n",
       "      <td>4.825</td>\n",
       "    </tr>\n",
       "    <tr>\n",
       "      <th>3</th>\n",
       "      <td>13.84</td>\n",
       "      <td>13.94</td>\n",
       "      <td>0.895</td>\n",
       "      <td>5.324</td>\n",
       "      <td>3.379</td>\n",
       "      <td>2.259</td>\n",
       "      <td>4.805</td>\n",
       "    </tr>\n",
       "    <tr>\n",
       "      <th>4</th>\n",
       "      <td>16.14</td>\n",
       "      <td>14.99</td>\n",
       "      <td>0.903</td>\n",
       "      <td>5.658</td>\n",
       "      <td>3.562</td>\n",
       "      <td>1.355</td>\n",
       "      <td>5.175</td>\n",
       "    </tr>\n",
       "    <tr>\n",
       "      <th>...</th>\n",
       "      <td>...</td>\n",
       "      <td>...</td>\n",
       "      <td>...</td>\n",
       "      <td>...</td>\n",
       "      <td>...</td>\n",
       "      <td>...</td>\n",
       "      <td>...</td>\n",
       "    </tr>\n",
       "    <tr>\n",
       "      <th>205</th>\n",
       "      <td>12.19</td>\n",
       "      <td>13.20</td>\n",
       "      <td>0.878</td>\n",
       "      <td>5.137</td>\n",
       "      <td>2.981</td>\n",
       "      <td>3.631</td>\n",
       "      <td>4.870</td>\n",
       "    </tr>\n",
       "    <tr>\n",
       "      <th>206</th>\n",
       "      <td>11.23</td>\n",
       "      <td>12.88</td>\n",
       "      <td>0.851</td>\n",
       "      <td>5.140</td>\n",
       "      <td>2.795</td>\n",
       "      <td>4.325</td>\n",
       "      <td>5.003</td>\n",
       "    </tr>\n",
       "    <tr>\n",
       "      <th>207</th>\n",
       "      <td>13.20</td>\n",
       "      <td>13.66</td>\n",
       "      <td>0.888</td>\n",
       "      <td>5.236</td>\n",
       "      <td>3.232</td>\n",
       "      <td>8.315</td>\n",
       "      <td>5.056</td>\n",
       "    </tr>\n",
       "    <tr>\n",
       "      <th>208</th>\n",
       "      <td>11.84</td>\n",
       "      <td>13.21</td>\n",
       "      <td>0.852</td>\n",
       "      <td>5.175</td>\n",
       "      <td>2.836</td>\n",
       "      <td>3.598</td>\n",
       "      <td>5.044</td>\n",
       "    </tr>\n",
       "    <tr>\n",
       "      <th>209</th>\n",
       "      <td>12.30</td>\n",
       "      <td>13.34</td>\n",
       "      <td>0.868</td>\n",
       "      <td>5.243</td>\n",
       "      <td>2.974</td>\n",
       "      <td>5.637</td>\n",
       "      <td>5.063</td>\n",
       "    </tr>\n",
       "  </tbody>\n",
       "</table>\n",
       "<p>210 rows × 7 columns</p>\n",
       "</div>"
      ],
      "text/plain": [
       "      area  perimeter  compactness  length  width  asymmetry  groove_length\n",
       "0    15.26      14.84        0.871   5.763  3.312      2.221          5.220\n",
       "1    14.88      14.57        0.881   5.554  3.333      1.018          4.956\n",
       "2    14.29      14.09        0.905   5.291  3.337      2.699          4.825\n",
       "3    13.84      13.94        0.895   5.324  3.379      2.259          4.805\n",
       "4    16.14      14.99        0.903   5.658  3.562      1.355          5.175\n",
       "..     ...        ...          ...     ...    ...        ...            ...\n",
       "205  12.19      13.20        0.878   5.137  2.981      3.631          4.870\n",
       "206  11.23      12.88        0.851   5.140  2.795      4.325          5.003\n",
       "207  13.20      13.66        0.888   5.236  3.232      8.315          5.056\n",
       "208  11.84      13.21        0.852   5.175  2.836      3.598          5.044\n",
       "209  12.30      13.34        0.868   5.243  2.974      5.637          5.063\n",
       "\n",
       "[210 rows x 7 columns]"
      ]
     },
     "execution_count": 3,
     "metadata": {},
     "output_type": "execute_result"
    }
   ],
   "source": [
    "df"
   ]
  },
  {
   "cell_type": "code",
   "execution_count": 4,
   "id": "d15507b2",
   "metadata": {},
   "outputs": [],
   "source": [
    "# Import the normalize function from the preprocessing module of scikit-learn\n",
    "from sklearn.preprocessing import normalize\n",
    "\n",
    "# Normalize the data in the dataframe using the normalize function\n",
    "X = normalize(df)\n",
    "\n",
    "# Create a new dataframe with the normalized data and the original column names\n",
    "df2 = pd.DataFrame(X, columns=df.columns)\n"
   ]
  },
  {
   "cell_type": "code",
   "execution_count": 5,
   "id": "beb83b28",
   "metadata": {},
   "outputs": [
    {
     "data": {
      "text/html": [
       "<div>\n",
       "<style scoped>\n",
       "    .dataframe tbody tr th:only-of-type {\n",
       "        vertical-align: middle;\n",
       "    }\n",
       "\n",
       "    .dataframe tbody tr th {\n",
       "        vertical-align: top;\n",
       "    }\n",
       "\n",
       "    .dataframe thead th {\n",
       "        text-align: right;\n",
       "    }\n",
       "</style>\n",
       "<table border=\"1\" class=\"dataframe\">\n",
       "  <thead>\n",
       "    <tr style=\"text-align: right;\">\n",
       "      <th></th>\n",
       "      <th>area</th>\n",
       "      <th>perimeter</th>\n",
       "      <th>compactness</th>\n",
       "      <th>length</th>\n",
       "      <th>width</th>\n",
       "      <th>asymmetry</th>\n",
       "      <th>groove_length</th>\n",
       "    </tr>\n",
       "  </thead>\n",
       "  <tbody>\n",
       "    <tr>\n",
       "      <th>0</th>\n",
       "      <td>0.662718</td>\n",
       "      <td>0.644478</td>\n",
       "      <td>0.037826</td>\n",
       "      <td>0.250278</td>\n",
       "      <td>0.143835</td>\n",
       "      <td>0.096455</td>\n",
       "      <td>0.226696</td>\n",
       "    </tr>\n",
       "    <tr>\n",
       "      <th>1</th>\n",
       "      <td>0.664107</td>\n",
       "      <td>0.650272</td>\n",
       "      <td>0.039320</td>\n",
       "      <td>0.247880</td>\n",
       "      <td>0.148755</td>\n",
       "      <td>0.045434</td>\n",
       "      <td>0.221191</td>\n",
       "    </tr>\n",
       "    <tr>\n",
       "      <th>2</th>\n",
       "      <td>0.656884</td>\n",
       "      <td>0.647690</td>\n",
       "      <td>0.041601</td>\n",
       "      <td>0.243217</td>\n",
       "      <td>0.153395</td>\n",
       "      <td>0.124068</td>\n",
       "      <td>0.221796</td>\n",
       "    </tr>\n",
       "    <tr>\n",
       "      <th>3</th>\n",
       "      <td>0.649097</td>\n",
       "      <td>0.653788</td>\n",
       "      <td>0.041976</td>\n",
       "      <td>0.249696</td>\n",
       "      <td>0.158475</td>\n",
       "      <td>0.105947</td>\n",
       "      <td>0.225355</td>\n",
       "    </tr>\n",
       "    <tr>\n",
       "      <th>4</th>\n",
       "      <td>0.682446</td>\n",
       "      <td>0.633821</td>\n",
       "      <td>0.038181</td>\n",
       "      <td>0.239237</td>\n",
       "      <td>0.150612</td>\n",
       "      <td>0.057293</td>\n",
       "      <td>0.218814</td>\n",
       "    </tr>\n",
       "    <tr>\n",
       "      <th>...</th>\n",
       "      <td>...</td>\n",
       "      <td>...</td>\n",
       "      <td>...</td>\n",
       "      <td>...</td>\n",
       "      <td>...</td>\n",
       "      <td>...</td>\n",
       "      <td>...</td>\n",
       "    </tr>\n",
       "    <tr>\n",
       "      <th>205</th>\n",
       "      <td>0.612738</td>\n",
       "      <td>0.663507</td>\n",
       "      <td>0.044133</td>\n",
       "      <td>0.258215</td>\n",
       "      <td>0.149842</td>\n",
       "      <td>0.182515</td>\n",
       "      <td>0.244794</td>\n",
       "    </tr>\n",
       "    <tr>\n",
       "      <th>206</th>\n",
       "      <td>0.583269</td>\n",
       "      <td>0.668968</td>\n",
       "      <td>0.044200</td>\n",
       "      <td>0.266964</td>\n",
       "      <td>0.145168</td>\n",
       "      <td>0.224634</td>\n",
       "      <td>0.259848</td>\n",
       "    </tr>\n",
       "    <tr>\n",
       "      <th>207</th>\n",
       "      <td>0.593783</td>\n",
       "      <td>0.614476</td>\n",
       "      <td>0.039945</td>\n",
       "      <td>0.235534</td>\n",
       "      <td>0.145387</td>\n",
       "      <td>0.374038</td>\n",
       "      <td>0.227437</td>\n",
       "    </tr>\n",
       "    <tr>\n",
       "      <th>208</th>\n",
       "      <td>0.600600</td>\n",
       "      <td>0.670095</td>\n",
       "      <td>0.043219</td>\n",
       "      <td>0.262509</td>\n",
       "      <td>0.143860</td>\n",
       "      <td>0.182513</td>\n",
       "      <td>0.255864</td>\n",
       "    </tr>\n",
       "    <tr>\n",
       "      <th>209</th>\n",
       "      <td>0.597522</td>\n",
       "      <td>0.648044</td>\n",
       "      <td>0.042167</td>\n",
       "      <td>0.254700</td>\n",
       "      <td>0.144474</td>\n",
       "      <td>0.273840</td>\n",
       "      <td>0.245956</td>\n",
       "    </tr>\n",
       "  </tbody>\n",
       "</table>\n",
       "<p>210 rows × 7 columns</p>\n",
       "</div>"
      ],
      "text/plain": [
       "         area  perimeter  compactness    length     width  asymmetry  \\\n",
       "0    0.662718   0.644478     0.037826  0.250278  0.143835   0.096455   \n",
       "1    0.664107   0.650272     0.039320  0.247880  0.148755   0.045434   \n",
       "2    0.656884   0.647690     0.041601  0.243217  0.153395   0.124068   \n",
       "3    0.649097   0.653788     0.041976  0.249696  0.158475   0.105947   \n",
       "4    0.682446   0.633821     0.038181  0.239237  0.150612   0.057293   \n",
       "..        ...        ...          ...       ...       ...        ...   \n",
       "205  0.612738   0.663507     0.044133  0.258215  0.149842   0.182515   \n",
       "206  0.583269   0.668968     0.044200  0.266964  0.145168   0.224634   \n",
       "207  0.593783   0.614476     0.039945  0.235534  0.145387   0.374038   \n",
       "208  0.600600   0.670095     0.043219  0.262509  0.143860   0.182513   \n",
       "209  0.597522   0.648044     0.042167  0.254700  0.144474   0.273840   \n",
       "\n",
       "     groove_length  \n",
       "0         0.226696  \n",
       "1         0.221191  \n",
       "2         0.221796  \n",
       "3         0.225355  \n",
       "4         0.218814  \n",
       "..             ...  \n",
       "205       0.244794  \n",
       "206       0.259848  \n",
       "207       0.227437  \n",
       "208       0.255864  \n",
       "209       0.245956  \n",
       "\n",
       "[210 rows x 7 columns]"
      ]
     },
     "execution_count": 5,
     "metadata": {},
     "output_type": "execute_result"
    }
   ],
   "source": [
    "df2"
   ]
  },
  {
   "cell_type": "code",
   "execution_count": 6,
   "id": "671b2cc1",
   "metadata": {},
   "outputs": [],
   "source": [
    "# Import the KMeans, DBSCAN, and AffinityPropagation clustering algorithms from scikit-learn\n",
    "from sklearn.cluster import KMeans\n",
    "from sklearn.cluster import DBSCAN\n",
    "from sklearn.cluster import AffinityPropagation\n",
    "\n",
    "# Create a KMeans clustering model with 8 clusters\n",
    "km = KMeans(n_clusters=8)\n",
    "\n",
    "# Create a DBSCAN clustering model with an epsilon value of 0.015 and a minimum number of samples per cluster of 2\n",
    "dbscan = DBSCAN(eps=0.015, min_samples=2)\n",
    "\n",
    "# Create an AffinityPropagation clustering model\n",
    "aff = AffinityPropagation()\n"
   ]
  },
  {
   "cell_type": "code",
   "execution_count": 7,
   "id": "ec729f83",
   "metadata": {},
   "outputs": [
    {
     "data": {
      "text/plain": [
       "AffinityPropagation()"
      ]
     },
     "execution_count": 7,
     "metadata": {},
     "output_type": "execute_result"
    }
   ],
   "source": [
    "# Fit the KMeans model to the data in the dataframe\n",
    "km.fit(df)\n",
    "\n",
    "# Fit the DBSCAN model to the data in the dataframe\n",
    "dbscan.fit(df2)\n",
    "\n",
    "# Fit the AffinityPropagation model to the data in the dataframe\n",
    "aff.fit(df)\n"
   ]
  },
  {
   "cell_type": "code",
   "execution_count": 8,
   "id": "283f25f1",
   "metadata": {},
   "outputs": [
    {
     "data": {
      "text/plain": [
       "array([4, 4, 0, 0, 4, 0, 0, 0, 4, 4, 2, 0, 0, 0, 0, 0, 5, 4, 4, 3, 0, 0,\n",
       "       4, 7, 4, 4, 7, 7, 0, 0, 7, 2, 0, 0, 4, 4, 4, 2, 0, 5, 0, 0, 7, 2,\n",
       "       0, 0, 4, 0, 0, 4, 0, 2, 0, 0, 4, 4, 0, 4, 4, 7, 7, 7, 7, 0, 7, 7,\n",
       "       4, 0, 4, 7, 2, 2, 2, 1, 2, 2, 2, 6, 6, 2, 2, 6, 6, 1, 1, 1, 1, 1,\n",
       "       6, 6, 1, 1, 1, 6, 6, 2, 1, 1, 1, 1, 2, 1, 6, 1, 1, 1, 1, 2, 1, 1,\n",
       "       1, 1, 1, 6, 6, 1, 6, 1, 1, 1, 6, 1, 2, 1, 2, 6, 6, 1, 1, 2, 1, 1,\n",
       "       2, 2, 2, 0, 2, 4, 4, 2, 5, 5, 5, 5, 3, 5, 7, 3, 7, 3, 3, 5, 3, 3,\n",
       "       3, 5, 3, 3, 3, 3, 7, 3, 3, 3, 5, 7, 3, 3, 3, 3, 5, 5, 3, 3, 3, 3,\n",
       "       3, 3, 5, 7, 3, 3, 3, 3, 5, 3, 3, 3, 5, 3, 3, 3, 3, 3, 3, 3, 5, 3,\n",
       "       7, 7, 5, 7, 3, 5, 3, 3, 3, 5, 3, 5])"
      ]
     },
     "execution_count": 8,
     "metadata": {},
     "output_type": "execute_result"
    }
   ],
   "source": [
    "km.labels_\n"
   ]
  },
  {
   "cell_type": "code",
   "execution_count": 9,
   "id": "e67fc30c",
   "metadata": {},
   "outputs": [
    {
     "data": {
      "text/plain": [
       "array([ 0,  1,  2,  2,  3,  2,  4,  2,  5,  5,  6,  7,  8,  2,  2, -1, -1,\n",
       "        3, -1,  9,  2,  2, 10, -1, -1, 10,  8, -1,  2,  8, -1,  2,  8, 11,\n",
       "        0,  5, -1, 12,  2, -1,  2, 11, 13,  6,  2,  7,  1,  2,  2,  0,  8,\n",
       "       -1,  8,  4,  7,  0,  2,  1,  0, -1, -1, -1,  8,  9, -1, 13,  7, 11,\n",
       "        7, 14, 15, 16, 16, 17, 15, 16, 15, 18, -1, 12, -1, -1, 18, 19, 17,\n",
       "       17, 19, 15, -1, 18, 19, 17, 17, -1, -1, 15, 17, 17, -1, 17, 16, 17,\n",
       "       20, 17, 17, 17, 17, 15, 17, 19, 17, 17, 17, -1, 18, 17, 20, 17, 17,\n",
       "       17, -1, 15, 16, 17, -1, 20, -1, 17, 19, -1, 17, 17, -1, 16, -1, -1,\n",
       "       15, 21, 21, 15, 22, -1, -1, 23, 22, -1, -1, 24, 14, 25, 23, 26, 22,\n",
       "       27, 22, -1, 27, 22, 22, 28, 14, -1, 22, 24, 26, -1, 22, 27, 22, 27,\n",
       "       -1, 26, 22, 28, 25, -1, 28, 29, -1, -1, 22, 22, 22, 23, -1, 22, -1,\n",
       "       22, -1, 28, 28, 22, 27, 29, 24, -1, -1, -1, 14, -1, 23, 13, 22, -1,\n",
       "        9,  9, 22, -1, 27, 23], dtype=int64)"
      ]
     },
     "execution_count": 9,
     "metadata": {},
     "output_type": "execute_result"
    }
   ],
   "source": [
    "dbscan.labels_"
   ]
  },
  {
   "cell_type": "code",
   "execution_count": 10,
   "id": "75144b5a",
   "metadata": {},
   "outputs": [
    {
     "data": {
      "text/plain": [
       "array([ 1,  1,  0,  0,  1,  0,  0,  0,  1,  1,  0,  1,  0,  0,  0,  0,  8,\n",
       "        1,  1,  8,  0,  0,  1,  7,  1,  1, 10,  7,  0,  0,  7,  0,  0,  0,\n",
       "        1,  1,  1,  2,  0,  6,  0,  0,  7,  2,  0,  1,  1,  0,  0,  1,  0,\n",
       "        2,  0,  0,  1,  1,  0,  1,  1,  7,  7,  7, 10,  8,  7,  7,  1,  0,\n",
       "        1, 10,  2,  2,  2,  5,  2,  2,  2,  3,  3,  2,  2,  3,  3,  4,  5,\n",
       "        4,  4,  5,  3,  3,  4,  5,  5,  3,  5,  2,  5,  4,  4,  4,  2,  4,\n",
       "        5,  5,  5,  4,  5,  2,  5,  4,  4,  5,  4,  3,  3,  4,  5,  5,  5,\n",
       "        5,  3,  5,  2,  5,  1,  5,  5,  4,  4,  2,  4,  5,  2,  2,  2,  0,\n",
       "        2,  1,  1,  2,  8,  6,  6,  8,  8,  9,  7,  8, 10,  9,  9,  6,  8,\n",
       "       10, 10,  9, 10,  8,  8,  9, 10, 10,  8,  8,  9,  7,  8, 10, 10, 10,\n",
       "        9,  9, 10,  9,  9,  9,  9,  9,  9,  7,  9,  8,  8,  9,  6, 10,  8,\n",
       "       10,  9,  9,  9, 10, 10,  9, 10,  8,  8,  8, 10,  7,  8,  7, 10,  6,\n",
       "       10, 10, 10,  6, 10,  8], dtype=int64)"
      ]
     },
     "execution_count": 10,
     "metadata": {},
     "output_type": "execute_result"
    }
   ],
   "source": [
    "aff.labels_"
   ]
  },
  {
   "cell_type": "markdown",
   "id": "73f32d4e",
   "metadata": {},
   "source": [
    "The silhouette score is a measure of how similar an object is to its own cluster compared to other clusters. It ranges from -1 to 1, with a high score indicating that the object is well-matched to its own cluster and poorly-matched to neighboring clusters.\n",
    "\n",
    "To calculate the silhouette score, you need to have a dataset that has been clustered into groups. Then, for each object in the dataset, you can calculate its silhouette score as follows:\n",
    "\n",
    "Calculate the average distance between the object and all other objects in the same cluster. This is known as the object's intra-cluster distance.\n",
    "Calculate the average distance between the object and all objects in the nearest neighboring cluster. This is known as the object's inter-cluster distance.\n",
    "Calculate the silhouette score for the object as the difference between the inter-cluster distance and the intra-cluster distance, divided by the maximum of the two distances.\n",
    "The silhouette score for the entire dataset is then calculated as the mean of the silhouette scores for all the objects in the dataset.\n",
    "\n",
    "The silhouette score can be a useful tool for evaluating the results of clustering algorithms and for selecting the optimal number of clusters for a dataset. However, it is important to note that the silhouette score is sensitive to the scale of the distances and is not always reliable for datasets with non-convex shapes or with clusters of very different sizes."
   ]
  },
  {
   "cell_type": "code",
   "execution_count": 11,
   "id": "dffabe9b",
   "metadata": {},
   "outputs": [
    {
     "data": {
      "text/plain": [
       "0.36119154788878327"
      ]
     },
     "execution_count": 11,
     "metadata": {},
     "output_type": "execute_result"
    }
   ],
   "source": [
    "from sklearn.metrics import silhouette_score\n",
    "silhouette_score(df,km.labels_)"
   ]
  },
  {
   "cell_type": "markdown",
   "id": "db3cce16",
   "metadata": {},
   "source": [
    "A silhouette score of 0.3620743885834876 is intermediate, falling between a score of 0 and a score of 1. This could indicate that the clusters in your dataset are somewhat distinct, but there may be some overlap or fuzzy boundaries between the clusters.\n",
    "\n",
    "It is important to note that the silhouette score is sensitive to the scale of the distances and is not always reliable for datasets with non-convex shapes or with clusters of very different sizes. Therefore, it is important to consider the context and characteristics of your dataset when interpreting the silhouette score.\n"
   ]
  },
  {
   "cell_type": "code",
   "execution_count": 12,
   "id": "a124106b",
   "metadata": {},
   "outputs": [
    {
     "data": {
      "text/plain": [
       "0.051893570770423565"
      ]
     },
     "execution_count": 12,
     "metadata": {},
     "output_type": "execute_result"
    }
   ],
   "source": [
    "silhouette_score(df2,dbscan.labels_)"
   ]
  },
  {
   "cell_type": "markdown",
   "id": "adcc4942",
   "metadata": {},
   "source": [
    "A silhouette score of 0.051893570770423565 is relatively low, indicating that the clusters in your dataset may not be well-separated or distinct. This could mean that there is significant overlap between the clusters or that the objects within a cluster are not similar to each other."
   ]
  },
  {
   "cell_type": "code",
   "execution_count": 13,
   "id": "9c0e2338",
   "metadata": {},
   "outputs": [
    {
     "data": {
      "text/plain": [
       "0.32408630302078106"
      ]
     },
     "execution_count": 13,
     "metadata": {},
     "output_type": "execute_result"
    }
   ],
   "source": [
    "silhouette_score(df,aff.labels_)"
   ]
  },
  {
   "cell_type": "markdown",
   "id": "0cc55941",
   "metadata": {},
   "source": [
    "The Davies-Bouldin index, also known as the Davies-Bouldin score or DBI, is a measure of the compactness and separation of the clusters in a dataset. It ranges from 0 to infinity, with a low score indicating that the clusters are well-separated and compact, and a high score indicating that the clusters are overlapping or scattered.\n",
    "\n",
    "To calculate the Davies-Bouldin index, you need to have a dataset that has been clustered into groups. Then, for each cluster, you can calculate the average distance between the objects in the cluster and the centroid of the cluster, which is the mean position of the objects in the cluster. This is known as the scatter of the cluster.\n",
    "\n",
    "Then, for each pair of clusters, you can calculate the distance between the centroids of the two clusters, and divide it by the maximum scatter of the two clusters. The Davies-Bouldin index is then calculated as the mean of these values for all pairs of clusters.\n",
    "\n",
    "The Davies-Bouldin index can be a useful tool for evaluating the results of clustering algorithms and for selecting the optimal number of clusters for a dataset. However, it is sensitive to the scale of the distances and can be affected by the presence of outliers or skewed distributions. It is"
   ]
  },
  {
   "cell_type": "code",
   "execution_count": 14,
   "id": "3765c31f",
   "metadata": {},
   "outputs": [
    {
     "data": {
      "text/plain": [
       "0.9403321967833498"
      ]
     },
     "execution_count": 14,
     "metadata": {},
     "output_type": "execute_result"
    }
   ],
   "source": [
    "from sklearn.metrics import davies_bouldin_score\n",
    "davies_bouldin_score(df,km.labels_)"
   ]
  },
  {
   "cell_type": "code",
   "execution_count": 15,
   "id": "c13f46b5",
   "metadata": {},
   "outputs": [
    {
     "data": {
      "text/plain": [
       "1.5505483824660646"
      ]
     },
     "execution_count": 15,
     "metadata": {},
     "output_type": "execute_result"
    }
   ],
   "source": [
    "davies_bouldin_score(df2,dbscan.labels_)"
   ]
  },
  {
   "cell_type": "code",
   "execution_count": 16,
   "id": "ee5623cf",
   "metadata": {},
   "outputs": [
    {
     "data": {
      "text/plain": [
       "0.972372889285975"
      ]
     },
     "execution_count": 16,
     "metadata": {},
     "output_type": "execute_result"
    }
   ],
   "source": [
    "davies_bouldin_score(df,aff.labels_)"
   ]
  },
  {
   "cell_type": "markdown",
   "id": "1167cb7e",
   "metadata": {},
   "source": [
    "It is not uncommon for different evaluation metrics to yield different results when assessing the quality of clusters in a dataset. This can be due to the different assumptions and characteristics of the metrics, as well as the context and characteristics of the dataset itself.\n",
    "\n",
    "In this case, it appears that the silhouette score favored the k-means algorithm, while the Davies-Bouldin index favored affinity propagation. This could be due to differences in the way these metrics measure the compactness and separation of the clusters.\n",
    "\n",
    "The silhouette score measures the similarity of an object to its own cluster compared to other clusters, and assigns a score ranging from -1 to 1 based on this comparison. A high silhouette score indicates that the object is well-matched to its own cluster and poorly-matched to neighboring clusters.\n",
    "\n",
    "On the other hand, the Davies-Bouldin index measures the compactness and separation of the clusters by calculating the average distance between the objects in a cluster and the centroid of the cluster, and the distance between the centroids of pairs of clusters. It assigns a score based on the mean of these values, with a low score indicating that the clusters are well-separated and compact, and a high score indicating that the clusters are overlapping or scattered.\n",
    "\n",
    "Given these differences in the way the silhouette score and the Davies-Bouldin index measure cluster quality, it is not surprising that they favored different algorithms in this case. It is important to consider the context and characteristics of your dataset when choosing an evaluation metric, and to use multiple metrics if possible to get a more comprehensive view of the cluster quality."
   ]
  },
  {
   "cell_type": "code",
   "execution_count": null,
   "id": "91f26c77",
   "metadata": {},
   "outputs": [],
   "source": []
  }
 ],
 "metadata": {
  "kernelspec": {
   "display_name": "Python 3 (ipykernel)",
   "language": "python",
   "name": "python3"
  },
  "language_info": {
   "codemirror_mode": {
    "name": "ipython",
    "version": 3
   },
   "file_extension": ".py",
   "mimetype": "text/x-python",
   "name": "python",
   "nbconvert_exporter": "python",
   "pygments_lexer": "ipython3",
   "version": "3.9.12"
  }
 },
 "nbformat": 4,
 "nbformat_minor": 5
}
