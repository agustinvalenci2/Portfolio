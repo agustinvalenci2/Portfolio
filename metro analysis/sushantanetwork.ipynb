{
 "cells": [
  {
   "cell_type": "markdown",
   "id": "51d0e7f4",
   "metadata": {},
   "source": [
    "Import libraries"
   ]
  },
  {
   "cell_type": "code",
   "execution_count": 1,
   "id": "335d9b61",
   "metadata": {},
   "outputs": [],
   "source": [
    "# Import necessary libraries\n",
    "import numpy as np  # NumPy is a library for working with large, multi-dimensional arrays and matrices\n",
    "import matplotlib.pyplot as plt  # Matplotlib is a library for creating visualizations of data\n",
    "import pandas as pd  # Pandas is a library for working with tabular data\n",
    "from datetime import datetime  # datetime is a module for working with dates and times\n",
    "import seaborn as sns  # Seaborn is a library for creating more advanced statistical plots\n",
    "import networkx as nx"
   ]
  },
  {
   "cell_type": "code",
   "execution_count": 2,
   "id": "2566d1f6",
   "metadata": {},
   "outputs": [],
   "source": [
    "# Load the social-network. data from a CSV file into a Pandas dataframe\n",
    "df = pd.read_csv(\"social-network.csv\", low_memory=False)"
   ]
  },
  {
   "cell_type": "code",
   "execution_count": 3,
   "id": "bf838bc0",
   "metadata": {},
   "outputs": [
    {
     "data": {
      "text/html": [
       "<div>\n",
       "<style scoped>\n",
       "    .dataframe tbody tr th:only-of-type {\n",
       "        vertical-align: middle;\n",
       "    }\n",
       "\n",
       "    .dataframe tbody tr th {\n",
       "        vertical-align: top;\n",
       "    }\n",
       "\n",
       "    .dataframe thead th {\n",
       "        text-align: right;\n",
       "    }\n",
       "</style>\n",
       "<table border=\"1\" class=\"dataframe\">\n",
       "  <thead>\n",
       "    <tr style=\"text-align: right;\">\n",
       "      <th></th>\n",
       "      <th>1</th>\n",
       "      <th>2</th>\n",
       "    </tr>\n",
       "  </thead>\n",
       "  <tbody>\n",
       "    <tr>\n",
       "      <th>0</th>\n",
       "      <td>1</td>\n",
       "      <td>3</td>\n",
       "    </tr>\n",
       "    <tr>\n",
       "      <th>1</th>\n",
       "      <td>1</td>\n",
       "      <td>4</td>\n",
       "    </tr>\n",
       "    <tr>\n",
       "      <th>2</th>\n",
       "      <td>1</td>\n",
       "      <td>5</td>\n",
       "    </tr>\n",
       "    <tr>\n",
       "      <th>3</th>\n",
       "      <td>1</td>\n",
       "      <td>6</td>\n",
       "    </tr>\n",
       "    <tr>\n",
       "      <th>4</th>\n",
       "      <td>1</td>\n",
       "      <td>7</td>\n",
       "    </tr>\n",
       "    <tr>\n",
       "      <th>...</th>\n",
       "      <td>...</td>\n",
       "      <td>...</td>\n",
       "    </tr>\n",
       "    <tr>\n",
       "      <th>2975</th>\n",
       "      <td>2699</td>\n",
       "      <td>2884</td>\n",
       "    </tr>\n",
       "    <tr>\n",
       "      <th>2976</th>\n",
       "      <td>2699</td>\n",
       "      <td>2885</td>\n",
       "    </tr>\n",
       "    <tr>\n",
       "      <th>2977</th>\n",
       "      <td>2699</td>\n",
       "      <td>2886</td>\n",
       "    </tr>\n",
       "    <tr>\n",
       "      <th>2978</th>\n",
       "      <td>2699</td>\n",
       "      <td>2887</td>\n",
       "    </tr>\n",
       "    <tr>\n",
       "      <th>2979</th>\n",
       "      <td>2699</td>\n",
       "      <td>2888</td>\n",
       "    </tr>\n",
       "  </tbody>\n",
       "</table>\n",
       "<p>2980 rows × 2 columns</p>\n",
       "</div>"
      ],
      "text/plain": [
       "         1     2\n",
       "0        1     3\n",
       "1        1     4\n",
       "2        1     5\n",
       "3        1     6\n",
       "4        1     7\n",
       "...    ...   ...\n",
       "2975  2699  2884\n",
       "2976  2699  2885\n",
       "2977  2699  2886\n",
       "2978  2699  2887\n",
       "2979  2699  2888\n",
       "\n",
       "[2980 rows x 2 columns]"
      ]
     },
     "execution_count": 3,
     "metadata": {},
     "output_type": "execute_result"
    }
   ],
   "source": [
    "df"
   ]
  },
  {
   "cell_type": "code",
   "execution_count": 4,
   "id": "15e32a9f",
   "metadata": {},
   "outputs": [],
   "source": [
    "# Create a list of edges from the dataframe\n",
    "edges = [tuple(row) for _, row in df.iterrows()]\n",
    "\n",
    "\n"
   ]
  },
  {
   "cell_type": "code",
   "execution_count": 5,
   "id": "021ab3ab",
   "metadata": {},
   "outputs": [
    {
     "name": "stdout",
     "output_type": "stream",
     "text": [
      "2887\n"
     ]
    },
    {
     "data": {
      "text/plain": [
       "2887"
      ]
     },
     "execution_count": 5,
     "metadata": {},
     "output_type": "execute_result"
    }
   ],
   "source": [
    "# Create a graph from the list of edges\n",
    "#assume it's directed graph\n",
    "G = nx.DiGraph(edges)\n",
    "# Find the strongly connected components of the graph\n",
    "sccs = nx.strongly_connected_components(G)\n",
    "\n",
    "# Count the number of strongly connected components\n",
    "count = sum(1 for _ in sccs)\n",
    "\n",
    "print(count)\n",
    "#pos = nx.circular_layout(G)\n",
    "len(G)"
   ]
  },
  {
   "cell_type": "code",
   "execution_count": 6,
   "id": "a21f52de",
   "metadata": {},
   "outputs": [
    {
     "data": {
      "image/png": "[encoded data removed]",
      "text/plain": [
       "<Figure size 432x288 with 1 Axes>"
      ]
     },
     "metadata": {},
     "output_type": "display_data"
    }
   ],
   "source": [
    "pos = nx.spectral_layout(G)\n",
    "\n",
    "# Draw the graph\n",
    "nx.draw(G, pos)\n"
   ]
  },
  {
   "cell_type": "markdown",
   "id": "734b110a",
   "metadata": {},
   "source": [
    "If a graph has the same number of strongly connected components as it has vertices, it means that each vertex forms a separate strongly connected component."
   ]
  },
  {
   "cell_type": "code",
   "execution_count": 36,
   "id": "18d9c2ac",
   "metadata": {},
   "outputs": [
    {
     "name": "stdout",
     "output_type": "stream",
     "text": [
      "infinity path lenght\n",
      "infinity path lenght\n"
     ]
    }
   ],
   "source": [
    "try:\n",
    "    print(\"diameter:\",nx.diameter(G))\n",
    "except:\n",
    "    print(\"infinity path lenght\")\n",
    "try:\n",
    "    print(\"center:\",list(nx.center(G)))\n",
    "except:\n",
    "    print(\"infinity path lenght\")    "
   ]
  },
  {
   "cell_type": "code",
   "execution_count": 7,
   "id": "2e47d30e",
   "metadata": {},
   "outputs": [
    {
     "name": "stdout",
     "output_type": "stream",
     "text": [
      "Density: 0.0003576622904645073\n",
      "Pearson correlation coefficient: -0.24212039347059394\n",
      "Average shortest path length: 0.006605470408726384\n"
     ]
    }
   ],
   "source": [
    "\n",
    "# Calculate the density of the graph\n",
    "density = nx.density(G)\n",
    "\n",
    "# Calculate the Pearson correlation coefficient between the degrees of the nodes\n",
    "correlation = nx.degree_pearson_correlation_coefficient(G)\n",
    "\n",
    "# Calculate the average shortest path length in the graph\n",
    "avg_shortest_path = nx.average_shortest_path_length(G)\n",
    "\n",
    "print(\"Density:\", density)\n",
    "print(\"Pearson correlation coefficient:\", correlation)\n",
    "print(\"Average shortest path length:\", avg_shortest_path)\n"
   ]
  },
  {
   "cell_type": "markdown",
   "id": "8cc134b7",
   "metadata": {},
   "source": [
    "The density of a graph is a measure of how many edges it has relative to the maximum number of edges it could have. The density of an undirected graph is defined as the number of edges divided by the number of possible edges. The density of a directed graph is defined as the number of arcs divided by the number of possible arcs."
   ]
  },
  {
   "cell_type": "markdown",
   "id": "7f692202",
   "metadata": {},
   "source": [
    "The Pearson correlation coefficient between the degrees of the nodes in an undirected graph is a measure of the linear relationship between the degrees of the nodes. The degree of a node is the number of edges incident to it. A value of 1 indicates a perfect positive correlation, a value of -1 indicates a perfect negative correlation, and a value of 0 indicates no correlation.\n",
    "\n",
    "The average shortest path length in an undirected graph is the average of the lengths of the shortest paths between all pairs of nodes in the graph. The shortest path between two nodes is the path with the minimum number of edges between them."
   ]
  },
  {
   "cell_type": "markdown",
   "id": "f6ddebba",
   "metadata": {},
   "source": [
    "the density of the graph is 0.0003576622904645073, which means that it has a very low density. This could be because the graph has a small number of edges relative to the number of possible edges, or because it is a large graph with a large number of vertices and a small number of edges."
   ]
  },
  {
   "cell_type": "markdown",
   "id": "a33ce4fb",
   "metadata": {},
   "source": [
    "The Pearson correlation coefficient between the degrees of the nodes is -0.24212039347059394, which indicates a weak negative correlation. This means that there is a weak tendency for nodes with high degrees to be connected to nodes with low degrees.\n",
    "\n",
    "The average shortest path length is 0.006605470408726384, which is a very small value. This could be because the graph is small and has a high connectivity, or because it has a hierarchical structure with many nodes connected to a few central nodes."
   ]
  },
  {
   "cell_type": "code",
   "execution_count": 8,
   "id": "8601a194",
   "metadata": {},
   "outputs": [
    {
     "name": "stdout",
     "output_type": "stream",
     "text": [
      "Assortativity coefficient: -0.24212039347059608\n",
      "Clustering coefficient: 0.013628429730572978\n",
      "mean Betweenness centrality: 1.3253469402740713e-06\n",
      "mean PageRank: 0.00034638032559751377\n",
      "std Betweenness centrality: 2.8999320375199028e-05\n",
      "std PageRank: 4.8150732311416136e-05\n"
     ]
    }
   ],
   "source": [
    "# Calculate the clustering coefficient of the graph\n",
    "clustering = nx.average_clustering(G)\n",
    "\n",
    "# Calculate the betweenness centrality of the nodes\n",
    "betweenness = nx.betweenness_centrality(G)\n",
    "\n",
    "# Calculate the PageRank of the nodes\n",
    "pagerank = nx.pagerank(G)\n",
    "assortativity = nx.degree_assortativity_coefficient(G)\n",
    "\n",
    "print(\"Assortativity coefficient:\", assortativity)\n",
    "print(\"Clustering coefficient:\", clustering)\n",
    "print(\"mean Betweenness centrality:\", np.mean(list(betweenness.values())))\n",
    "print(\"mean PageRank:\", np.mean(list(pagerank.values())))\n",
    "print(\"std Betweenness centrality:\", np.std(list(betweenness.values())))\n",
    "print(\"std PageRank:\", np.std(list(pagerank.values())))"
   ]
  },
  {
   "cell_type": "markdown",
   "id": "cb6646a7",
   "metadata": {},
   "source": [
    "The assortativity coefficient is a measure of the degree to which nodes tend to connect to other nodes that are similar to them in some way. A value of 1 indicates a perfect positive correlation, a value of -1 indicates a perfect negative correlation, and a value of 0 indicates no correlation. In this case, the assortativity coefficient is negative, which indicates that nodes tend to connect to other nodes that are dissimilar to them in some way."
   ]
  },
  {
   "cell_type": "markdown",
   "id": "8e3bb65b",
   "metadata": {},
   "source": [
    "The clustering coefficient is a measure of the degree to which nodes tend to cluster together. A value of 1 indicates that all nodes are connected to each other in a fully connected cluster, while a value of 0 indicates that the nodes are not connected to each other at all. In this case, the clustering coefficient is relatively low, which suggests that the nodes are not strongly connected to each other."
   ]
  },
  {
   "cell_type": "markdown",
   "id": "2cbe838f",
   "metadata": {},
   "source": [
    "The mean betweenness centrality is the mean of the betweenness centrality of all the nodes in the graph. Betweenness centrality is a measure of the degree to which a node lies on the shortest paths between other nodes in the graph. A node with a high betweenness centrality has a large influence on the communication between other nodes in the graph. In this case, the mean betweenness centrality is very low, which suggests that the nodes in the graph do not have a strong influence on the communication between other nodes."
   ]
  },
  {
   "cell_type": "markdown",
   "id": "e7bfdad0",
   "metadata": {},
   "source": [
    "The mean PageRank is the mean of the PageRank of all the nodes in the graph. PageRank is a measure of the importance of a node in a graph, based on the number and quality of the links to and from the node. A node with a high PageRank is considered to be more important than a node with a low PageRank. In this case, the mean PageRank is relatively low, which suggests that the nodes in the graph are not particularly important."
   ]
  },
  {
   "cell_type": "markdown",
   "id": "29ce6a44",
   "metadata": {},
   "source": [
    "The standard deviation of the betweenness centrality is a measure of the spread of the betweenness centrality values among the nodes in the graph. A high standard deviation indicates that the values are widely dispersed, while a low standard deviation indicates that they are more concentrated around the mean. In this case, the standard deviation of the betweenness centrality is relatively low, which suggests that the betweenness centrality values are not widely dispersed among the nodes."
   ]
  },
  {
   "cell_type": "markdown",
   "id": "0d735295",
   "metadata": {},
   "source": [
    "The standard deviation of the PageRank is a measure of the spread of the PageRank values among the nodes in the graph. A high standard deviation indicates that the values are widely dispersed, while alow standard deviation indicates that they are more concentrated around the mean. In this case, the standard deviation of the PageRank is relatively low, which suggests that the PageRank values are not widely dispersed among the nodes."
   ]
  },
  {
   "cell_type": "code",
   "execution_count": 27,
   "id": "9cc46a87",
   "metadata": {},
   "outputs": [
    {
     "data": {
      "text/plain": [
       "(array([2.884e+03, 1.000e+00, 2.000e+00]),\n",
       " array([0.        , 0.00033917, 0.00067835, 0.00101752]),\n",
       " <BarContainer object of 3 artists>)"
      ]
     },
     "execution_count": 27,
     "metadata": {},
     "output_type": "execute_result"
    },
    {
     "data": {
      "image/png": "[encoded data removed]",
      "text/plain": [
       "<Figure size 432x288 with 1 Axes>"
      ]
     },
     "metadata": {
      "needs_background": "light"
     },
     "output_type": "display_data"
    }
   ],
   "source": [
    "plt.hist(betweenness.values(),bins = np.linspace(min(betweenness.values()), max(betweenness.values()),4))\n"
   ]
  },
  {
   "cell_type": "code",
   "execution_count": 31,
   "id": "fa93941d",
   "metadata": {},
   "outputs": [
    {
     "data": {
      "text/plain": [
       "(array([2.881e+03, 0.000e+00, 1.000e+00, 1.000e+00, 1.000e+00, 0.000e+00,\n",
       "        1.000e+00, 0.000e+00, 1.000e+00, 0.000e+00, 0.000e+00, 0.000e+00,\n",
       "        0.000e+00, 0.000e+00, 0.000e+00, 0.000e+00, 0.000e+00, 1.000e+00]),\n",
       " array([0.00034199, 0.00046075, 0.00057951, 0.00069826, 0.00081702,\n",
       "        0.00093578, 0.00105453, 0.00117329, 0.00129205, 0.0014108 ,\n",
       "        0.00152956, 0.00164832, 0.00176707, 0.00188583, 0.00200458,\n",
       "        0.00212334, 0.0022421 , 0.00236085, 0.00247961]),\n",
       " <BarContainer object of 18 artists>)"
      ]
     },
     "execution_count": 31,
     "metadata": {},
     "output_type": "execute_result"
    },
    {
     "data": {
      "image/png": "[encoded data removed]",
      "text/plain": [
       "<Figure size 432x288 with 1 Axes>"
      ]
     },
     "metadata": {
      "needs_background": "light"
     },
     "output_type": "display_data"
    }
   ],
   "source": [
    "plt.hist(pagerank.values(),bins = np.linspace(min(pagerank.values()), max(pagerank.values()),19))"
   ]
  },
  {
   "cell_type": "code",
   "execution_count": null,
   "id": "470e81b5",
   "metadata": {},
   "outputs": [],
   "source": []
  }
 ],
 "metadata": {
  "kernelspec": {
   "display_name": "Python 3 (ipykernel)",
   "language": "python",
   "name": "python3"
  },
  "language_info": {
   "codemirror_mode": {
    "name": "ipython",
    "version": 3
   },
   "file_extension": ".py",
   "mimetype": "text/x-python",
   "name": "python",
   "nbconvert_exporter": "python",
   "pygments_lexer": "ipython3",
   "version": "3.9.12"
  }
 },
 "nbformat": 4,
 "nbformat_minor": 5
}
