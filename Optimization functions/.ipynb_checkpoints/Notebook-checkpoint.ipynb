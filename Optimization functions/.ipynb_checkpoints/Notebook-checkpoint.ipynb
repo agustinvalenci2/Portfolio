{
 "cells": [
  {
   "cell_type": "code",
   "execution_count": 1,
   "id": "db8176de-6b81-4dc8-905c-baa10f6fedff",
   "metadata": {},
   "outputs": [],
   "source": [
    "import numpy as np\n",
    "from scipy.optimize import minimize"
   ]
  },
  {
   "cell_type": "code",
   "execution_count": 2,
   "id": "de01cad0-e22b-4271-887b-727c83a468f0",
   "metadata": {},
   "outputs": [],
   "source": [
    "def helical_valley(x):\n",
    "    t = np.arctan2(x[1], x[0]) / (2 * np.pi)\n",
    "    z = x[2]\n",
    "    return 100 * (z - 10 * t) ** 2 + (np.sqrt(x[0] ** 2 + x[1] ** 2) - 1) ** 2 + z ** 2"
   ]
  },
  {
   "cell_type": "code",
   "execution_count": 3,
   "id": "c88fb61f-c33d-48e1-9e49-097b34b3eb7f",
   "metadata": {},
   "outputs": [
    {
     "name": "stdout",
     "output_type": "stream",
     "text": [
      "Optimal solution: [1. 0. 0.]\n",
      "Optimal function value: 0.0\n",
      "Iterations: 2\n"
     ]
    }
   ],
   "source": [
    "x0 = np.array([-1.0, 0.0, 0.0])\n",
    "iterations=[]\n",
    "def callback(cb):\n",
    "    iterations.append(cb)\n",
    "result = minimize(helical_valley, x0, method='Powell',callback=callback)\n",
    "\n",
    "print(\"Optimal solution:\", result.x)\n",
    "print(\"Optimal function value:\", result.fun)\n",
    "print(\"Iterations:\",len(iterations))"
   ]
  },
  {
   "cell_type": "markdown",
   "id": "c4d2225e-2d24-412c-b3a8-b50c3f273cd5",
   "metadata": {},
   "source": [
    "$$ f(x,y,z) = 100*(z-10atan2(y,x))^2 + (\\sqrt{x^2+y^2}-1)^2+z^2 $$"
   ]
  },
  {
   "cell_type": "markdown",
   "id": "1244ad45-9c61-4b33-b943-99473d6cbf52",
   "metadata": {},
   "source": [
    "$$ \\frac{\\partial f}{\\partial x}\\:=\\:\\frac{2000y\\left(z-10atan2\\left(y,x\\right)\\right)}{x^2+y^2}+\\frac{2\\left(\\sqrt{x^2+y^2}-1\\right)x}{\\sqrt{x^2+y^2}}$$"
   ]
  },
  {
   "cell_type": "markdown",
   "id": "a7805e0e-348f-4612-a455-88a7f144f567",
   "metadata": {},
   "source": [
    "$$ \\frac{\\partial f}{\\partial y}\\:=-\\frac{2000\\cdot \\left(z-10atan2\\left(y,x\\right)\\right)x}{x^2+y^2}+\\frac{2\\left(\\sqrt{x^2+y^2}-1\\right)y}{\\sqrt{x^2+y^2}}$$"
   ]
  },
  {
   "cell_type": "markdown",
   "id": "dd554702-e719-452c-982e-e3cb7df817d1",
   "metadata": {},
   "source": [
    "$$\\frac{\\partial f}{\\partial z}\\:=200\\left(z-10atan2\\left(y,x\\right)\\right)+2z$$"
   ]
  },
  {
   "cell_type": "code",
   "execution_count": 4,
   "id": "a08924e9-c5e2-4c26-beed-a1816a6c24a1",
   "metadata": {},
   "outputs": [],
   "source": [
    "def partial_derivative_x(x, y, z):\n",
    "    return (2000 * y * (z - 10 * np.arctan2(y, x))) / (x**2 + y**2) + (2 * (np.sqrt(x**2 + y**2) - 1) * x) / np.sqrt(x**2 + y**2)\n",
    "\n",
    "def partial_derivative_y(x, y, z):\n",
    "    return (-2000 * (z - 10 * np.arctan2(y, x)) * x) / (x**2 + y**2) + (2 * (np.sqrt(x**2 + y**2) - 1) * y) / np.sqrt(x**2 + y**2)\n",
    "\n",
    "def partial_derivative_z(x, y, z):\n",
    "    return 200 * (z - 10 * np.arctan2(y, x)) + 2 * z\n",
    "\n",
    "def gradient(x,y,z):\n",
    "    dx=partial_derivative_x(x,y,z)\n",
    "    dy=partial_derivative_y(x,y,z)\n",
    "    dz=partial_derivative_z(x,y,z)\n",
    "    return dx,dy,dz"
   ]
  },
  {
   "cell_type": "code",
   "execution_count": 5,
   "id": "252a39c0-da21-45c6-a4f0-d2cbdc1e0bc4",
   "metadata": {},
   "outputs": [
    {
     "data": {
      "text/plain": [
       "(-6853.395847536856, 6854.56742041211, -1368.7963267948965)"
      ]
     },
     "execution_count": 5,
     "metadata": {},
     "output_type": "execute_result"
    }
   ],
   "source": [
    "gradient(1,1,1)"
   ]
  },
  {
   "cell_type": "code",
   "execution_count": 6,
   "id": "7616ae9e-0fdd-4b0f-9634-bdcd8162d80c",
   "metadata": {},
   "outputs": [
    {
     "name": "stdout",
     "output_type": "stream",
     "text": [
      "Gradient: [2*x*(sqrt(x**2 + y**2) - 1)/sqrt(x**2 + y**2) + 2000*y*(z - 10*atan2(y, x))/(x**2 + y**2), -2000*x*(z - 10*atan2(y, x))/(x**2 + y**2) + 2*y*(sqrt(x**2 + y**2) - 1)/sqrt(x**2 + y**2), 202*z - 2000*atan2(y, x)]\n"
     ]
    }
   ],
   "source": [
    "import sympy as sp\n",
    "\n",
    "# Define the variables\n",
    "x, y, z = sp.symbols('x y z')\n",
    "\n",
    "# Define the function\n",
    "f = 100 * (z - 10 * sp.atan2(y, x))**2 + (sp.sqrt(x**2 + y**2) - 1)**2 + z**2\n",
    "\n",
    "# Compute the gradient\n",
    "gradient = [sp.diff(f, var) for var in (x, y, z)]\n",
    "\n",
    "# Display the gradient\n",
    "print(\"Gradient:\", gradient)\n"
   ]
  },
  {
   "cell_type": "code",
   "execution_count": 7,
   "id": "7347040d-9a36-4bd0-963d-00a1840d1d60",
   "metadata": {},
   "outputs": [
    {
     "name": "stdout",
     "output_type": "stream",
     "text": [
      "[-2500*pi + sqrt(2)*(-1 + sqrt(2)) + 1000, -1000 + sqrt(2)*(-1 + sqrt(2)) + 2500*pi, 202 - 500*pi]\n"
     ]
    }
   ],
   "source": [
    "point = {x: 1, y: 1, z: 1}\n",
    "evaluated_gradient = [expr.subs(point) for expr in gradient]\n",
    "print(evaluated_gradient)"
   ]
  },
  {
   "cell_type": "code",
   "execution_count": 8,
   "id": "7592d343-59ed-46e4-a08c-e586b607d7bf",
   "metadata": {},
   "outputs": [
    {
     "name": "stdout",
     "output_type": "stream",
     "text": [
      "Partial derivative with respect to x: 2*x*(sqrt(x**2 + y**2) - 1)/sqrt(x**2 + y**2) + 2000*y*(z - 10*atan2(y, x))/(x**2 + y**2)\n",
      "Partial derivative with respect to y: -2000*x*(z - 10*atan2(y, x))/(x**2 + y**2) + 2*y*(sqrt(x**2 + y**2) - 1)/sqrt(x**2 + y**2)\n",
      "Partial derivative with respect to z: 202*z - 2000*atan2(y, x)\n",
      "\n",
      "Second partial derivative with respect to x^2: 2*x**2/(x**2 + y**2) - 2*x**2*(sqrt(x**2 + y**2) - 1)/(x**2 + y**2)**(3/2) - 4000*x*y*(z - 10*atan2(y, x))/(x**2 + y**2)**2 + 20000*y**2/(x**2 + y**2)**2 + 2*(sqrt(x**2 + y**2) - 1)/sqrt(x**2 + y**2)\n",
      "Second partial derivative with respect to y^2: 20000*x**2/(x**2 + y**2)**2 + 4000*x*y*(z - 10*atan2(y, x))/(x**2 + y**2)**2 + 2*y**2/(x**2 + y**2) - 2*y**2*(sqrt(x**2 + y**2) - 1)/(x**2 + y**2)**(3/2) + 2*(sqrt(x**2 + y**2) - 1)/sqrt(x**2 + y**2)\n",
      "Second partial derivative with respect to z^2: 202\n",
      "\n",
      "Second partial derivative with respect to x and y: 2*x*y/(x**2 + y**2) - 20000*x*y/(x**2 + y**2)**2 - 2*x*y*(sqrt(x**2 + y**2) - 1)/(x**2 + y**2)**(3/2) - 4000*y**2*(z - 10*atan2(y, x))/(x**2 + y**2)**2 + 2000*(z - 10*atan2(y, x))/(x**2 + y**2)\n",
      "Second partial derivative with respect to x and z: 2000*y/(x**2 + y**2)\n",
      "Second partial derivative with respect to y and z: -2000*x/(x**2 + y**2)\n"
     ]
    }
   ],
   "source": [
    "from sympy import symbols, sqrt, atan2, diff\n",
    "\n",
    "# Define variables\n",
    "x, y, z = symbols('x y z')\n",
    "\n",
    "# Define the function\n",
    "f = 100 * (z - 10 * atan2(y, x))**2 + (sqrt(x**2 + y**2) - 1)**2 + z**2\n",
    "\n",
    "# Calculate partial derivatives\n",
    "df_dx = diff(f, x)\n",
    "df_dy = diff(f, y)\n",
    "df_dz = diff(f, z)\n",
    "\n",
    "# Calculate second partial derivatives\n",
    "d2f_dx2 = diff(df_dx, x)\n",
    "d2f_dy2 = diff(df_dy, y)\n",
    "d2f_dz2 = diff(df_dz, z)\n",
    "\n",
    "d2f_dxdy = diff(df_dx, y)\n",
    "d2f_dxdz = diff(df_dx, z)\n",
    "d2f_dydz = diff(df_dy, z)\n",
    "\n",
    "# Print the derivatives\n",
    "print(\"Partial derivative with respect to x:\", df_dx)\n",
    "print(\"Partial derivative with respect to y:\", df_dy)\n",
    "print(\"Partial derivative with respect to z:\", df_dz)\n",
    "\n",
    "print(\"\\nSecond partial derivative with respect to x^2:\", d2f_dx2)\n",
    "print(\"Second partial derivative with respect to y^2:\", d2f_dy2)\n",
    "print(\"Second partial derivative with respect to z^2:\", d2f_dz2)\n",
    "\n",
    "print(\"\\nSecond partial derivative with respect to x and y:\", d2f_dxdy)\n",
    "print(\"Second partial derivative with respect to x and z:\", d2f_dxdz)\n",
    "print(\"Second partial derivative with respect to y and z:\", d2f_dydz)\n"
   ]
  },
  {
   "cell_type": "code",
   "execution_count": 9,
   "id": "a5e44b3c-83d1-4b80-a0a5-d7773025f87e",
   "metadata": {},
   "outputs": [],
   "source": [
    "def biggs_exp6_function(x, t, y):\n",
    "    return np.sum((np.exp(-t * x) - y)**2)"
   ]
  },
  {
   "cell_type": "code",
   "execution_count": 10,
   "id": "9c2f4a43-1755-4625-8af1-53214176ba8f",
   "metadata": {},
   "outputs": [
    {
     "name": "stdout",
     "output_type": "stream",
     "text": [
      "Optimal solution: [1. 2. 1. 1. 1. 1.]\n",
      "Optimal function value: 4.248354237778568e-18\n",
      "Iterarions: 0\n"
     ]
    }
   ],
   "source": [
    "initial_guess = np.array([1.0,2.0,1.0,1.0,1.0,1.0])\n",
    "iterations=[]\n",
    "def callback(cb):\n",
    "    iterations.append(cb)\n",
    "t_values = np.array([10*(i+1) for i in range(len(initial_guess))])\n",
    "y_values = np.exp(-t_values) -5*np.exp(-10*t_values)+3*np.exp(-4*t_values)\n",
    "# Minimize the Biggs EXP6 function\n",
    "result = minimize(biggs_exp6_function, initial_guess, args=(t_values, y_values), method='BFGS',callback=callback)\n",
    "print(\"Optimal solution:\", result.x)\n",
    "print(\"Optimal function value:\", result.fun)\n",
    "print(\"Iterarions:\",len(iterations))"
   ]
  },
  {
   "cell_type": "markdown",
   "id": "84cd7567-d0d6-475a-adce-78c35d5b2792",
   "metadata": {},
   "source": [
    "$$ \\frac{\\partial f}{\\partial x_i} = -2 \\sum_{i=1}^{n} t_i \\cdot \\exp(-t_i \\cdot x_i) \\cdot (\\exp(-t_i \\cdot x_i) - y_i) $$"
   ]
  },
  {
   "cell_type": "code",
   "execution_count": 11,
   "id": "aa3a8dc0-6409-4b68-8e52-9a10271230ab",
   "metadata": {},
   "outputs": [],
   "source": [
    "def gradient(x,t,y):\n",
    "    return -2*t*(np.exp(-t*x)-y)*np.exp(-t*x)"
   ]
  },
  {
   "cell_type": "code",
   "execution_count": 12,
   "id": "43bf2d62-eb02-4b9f-a82c-4f45acbd8901",
   "metadata": {},
   "outputs": [
    {
     "data": {
      "text/plain": [
       "array([ 1.15734879e-20,  3.50260430e-25, -0.00000000e+00, -0.00000000e+00,\n",
       "       -0.00000000e+00, -0.00000000e+00])"
      ]
     },
     "execution_count": 12,
     "metadata": {},
     "output_type": "execute_result"
    }
   ],
   "source": [
    "gradient(initial_guess,t_values,y_values)"
   ]
  },
  {
   "cell_type": "code",
   "execution_count": 13,
   "id": "956fb51c-2be8-40aa-a1af-9d4f01054b4c",
   "metadata": {},
   "outputs": [],
   "source": [
    "def hessian(x,t,y):\n",
    "    return np.diag(2*t*(1+(np.exp(-t*x)-y)*(np.exp(-t*x))))"
   ]
  },
  {
   "cell_type": "markdown",
   "id": "27ddcb61-dc8d-4645-88b0-93e1fff0af38",
   "metadata": {},
   "source": [
    "$$ H_{ij} = 2 \\sum_{k=1}^{n} t_k^2 \\cdot \\exp(-t_k \\cdot x_k) \\cdot (\\exp(-t_k \\cdot x_k) - y_k) \\cdot \\delta_{ij} + 2 \\sum_{k=1}^{n} t_k^2 \\cdot \\exp(-t_k \\cdot x_k) \\cdot (\\exp(-t_k \\cdot x_k) - y_k)^2 \\cdot \\exp(-t_k \\cdot x_i - t_k \\cdot x_j) $$\r\n"
   ]
  },
  {
   "cell_type": "code",
   "execution_count": 14,
   "id": "35ac9494-1059-491d-86e9-c716426a87d8",
   "metadata": {},
   "outputs": [
    {
     "data": {
      "text/plain": [
       "array([[ 20.,   0.,   0.,   0.,   0.,   0.],\n",
       "       [  0.,  40.,   0.,   0.,   0.,   0.],\n",
       "       [  0.,   0.,  60.,   0.,   0.,   0.],\n",
       "       [  0.,   0.,   0.,  80.,   0.,   0.],\n",
       "       [  0.,   0.,   0.,   0., 100.,   0.],\n",
       "       [  0.,   0.,   0.,   0.,   0., 120.]])"
      ]
     },
     "execution_count": 14,
     "metadata": {},
     "output_type": "execute_result"
    }
   ],
   "source": [
    "hessian(initial_guess,t_values,y_values)"
   ]
  },
  {
   "cell_type": "code",
   "execution_count": 15,
   "id": "8eec5858-2755-4396-acb4-9928df600f10",
   "metadata": {},
   "outputs": [
    {
     "name": "stdout",
     "output_type": "stream",
     "text": [
      "The value of the Gaussian function is: 0.10207049569085339\n",
      "Optimal x: [0.52388083 0.7058404  0.48088152]\n",
      "Minimum value of the function: 0.0014489424560909297\n",
      "Iterations: 11\n"
     ]
    }
   ],
   "source": [
    "import numpy as np\n",
    "\n",
    "def gaussian_function(x):\n",
    "    \"\"\"\n",
    "    x: numpy array, representing the vector of variables\n",
    "    A: numpy array, representing the positive definite matrix\n",
    "    \"\"\"\n",
    "    ys=[0.0009, 0.0044, 0.0175, 0.0540, 0.1295, 0.2420, 0.3521]\n",
    "    ans=0\n",
    "    for i,y in enumerate(ys):\n",
    "        t1=(8-i+1)/2\n",
    "        t2=(8-(15-i))/2\n",
    "        exponent1 = (-x[1]*(t1-x[2])**2)/2\n",
    "        exponent2 = (-x[1]*(t2-x[2])**2)/2\n",
    "        ans+= (x[0]*np.exp(exponent1)-y)**2\n",
    "        ans+=(x[0]*np.exp(exponent2)-y)**2\n",
    "    exponentf = (-x[1]*(x[2])**2)/2\n",
    "    ans+=(x[0]*np.exp(exponent2)-0.3989)**2\n",
    "    return ans\n",
    "\n",
    "# Example usage\n",
    "variables= np.array([0.4,1,0])  # Example vector of variables\n",
    "\n",
    "result = gaussian_function(variables)\n",
    "print(f\"The value of the Gaussian function is: {result}\")\n",
    "from scipy.optimize import minimize\n",
    "\n",
    "# Define the negative of the Gaussian function (since minimize finds the minimum)\n",
    "negative_gaussian = lambda x: gaussian_function(x)\n",
    "\n",
    "# Initial guess\n",
    "initial_guess = np.array([0.4,1.0,0.0])\n",
    "iterations=[]\n",
    "# Minimize the negative Gaussian function\n",
    "result = minimize(negative_gaussian, initial_guess, method='BFGS',callback=callback)\n",
    "\n",
    "# Print the result\n",
    "print(\"Optimal x:\", result.x)\n",
    "print(\"Minimum value of the function:\", result.fun)\n",
    "print(\"Iterations:\",len(iterations))"
   ]
  },
  {
   "cell_type": "markdown",
   "id": "9d411cff-eea0-4688-9771-a0bca660147d",
   "metadata": {},
   "source": [
    "$$f(x) = \\sum_{i=1}^{7} \\left( x_0 \\cdot \\exp\\left(-\\frac{x_1}{2} \\cdot (t_{1,i} - x_2)^2\\right) - y_i \\right)^2 + \\sum_{i=1}^{7} \\left( x_0 \\cdot \\exp\\left(-\\frac{x_1}{2} \\cdot (t_{2,i} - x_2)^2\\right) - y_i \\right)^2 + \\left( x_0 \\cdot \\exp\\left(-\\frac{x_1}{2} \\cdot x_2^2\\right) - 0.3989 \\right)^2$$\r\n"
   ]
  },
  {
   "cell_type": "markdown",
   "id": "aee2a23a-643c-47e2-943c-9f0beefb6a13",
   "metadata": {},
   "source": [
    "$$\\nabla f = \\begin{bmatrix}\r\n",
    "2 \\sum_{i=1}^{7} \\left( x_0 \\cdot \\exp\\left(-\\frac{x_1}{2} \\cdot (t_{1,i} - x_2)^2\\right) - y_i \\right) \\cdot \\exp\\left(-\\frac{x_1}{2} \\cdot (t_{1,i} - x_2)^2\\right) \\\\\r\n",
    "2x_0 \\left( \\sum_{i=1}^{7} (t_{1,i} - x_2)^2 \\cdot \\exp\\left(-\\frac{x_1}{2} \\cdot (t_{1,i} - x_2)^2\\right) + \\sum_{i=1}^{7} (t_{2,i} - x_2)^2 \\cdot \\exp\\left(-\\frac{x_1}{2} \\cdot (t_{2,i} - x_2)^2\\right) + x_2^2 \\cdot \\exp\\left(-\\frac{x_1}{2} \\cdot x_2^2\\right) \\right) \\\\\r\n",
    "-2x_0 \\cdot x_1 \\left( \\sum_{i=1}^{7} (t_{1,i} - x_2) \\cdot \\exp\\left(-\\frac{x_1}{2} \\cdot (t_{1,i} - x_2)^2\\right) + \\sum_{i=1}^{7} (t_{2,i} - x_2) \\cdot \\exp\\left(-\\frac{x_1}{2} \\cdot (t_{2,i} - x_2)^2\\right) + x_2 \\cdot \\exp\\left(-\\frac{x_1}{2} \\cdot x_2^2\\right) \\right)\r\n",
    "\\end{bmatrix}\r\n",
    "$$"
   ]
  },
  {
   "cell_type": "markdown",
   "id": "1c38d7bf-7362-4c44-92c6-8f165632e493",
   "metadata": {},
   "source": [
    "$$H = \\begin{bmatrix}\r\n",
    "2 \\sum_{i=1}^{7} \\exp\\left(-\\frac{x_1}{2} \\cdot (t_{1,i} - x_2)^2\\right) & 2x_0 \\left( \\sum_{i=1}^{7} (t_{1,i} - x_2)^2 \\cdot \\exp\\left(-\\frac{x_1}{2} \\cdot (t_{1,i} - x_2)^2\\right) + \\sum_{i=1}^{7} (t_{2,i} - x_2)^2 \\cdot \\exp\\left(-\\frac{x_1}{2} \\cdot (t_{2,i} - x_2)^2\\right) + x_2^2 \\cdot \\exp\\left(-\\frac{x_1}{2} \\cdot x_2^2\\right) \\\\\r\n",
    "2x_0 \\left( \\sum_{i=1}^{7} (t_{1,i} - x_2)^2 \\cdot \\exp\\left(-\\frac{x_1}{2} \\cdot (t_{1,i} - x_2)^2\\right) + \\sum_{i=1}^{7} (t_{2,i} - x_2)^2 \\cdot \\exp\\left(-\\frac{x_1}{2} \\cdot (t_{2,i} - x_2)^2\\right) + x_2^2 \\cdot \\exp\\left(-\\frac{x_1}{2} \\cdot x_2^2\\right) \\right) & 2x_0x_1 \\left( \\sum_{i=1}^{7} (t_{1,i} - x_2) \\cdot \\exp\\left(-\\frac{x_1}{2} \\cdot (t_{1,i} - x_2)^2\\right) + \\sum_{i=1}^{7} (t_{2,i} - x_2) \\cdot \\exp\\left(-\\frac{x_1}{2} \\cdot (t_{2,i} - x_2)^2\\right) + x_2 \\cdot \\exp\\left(-\\frac{x_1}{2} \\cdot x_2^2\\right) \\right)\r\n",
    "\\end{bmatr$$ix}\r\n"
   ]
  },
  {
   "cell_type": "code",
   "execution_count": 16,
   "id": "823a9d4d-8498-415c-9a8e-a3c7e87e5a84",
   "metadata": {},
   "outputs": [],
   "source": [
    "def gaussian_gradient(x):\n",
    "    ys = [0.0009, 0.0044, 0.0175, 0.0540, 0.1295, 0.2420, 0.3521]\n",
    "    gradient = np.zeros_like(x)\n",
    "\n",
    "    for i, y in enumerate(ys):\n",
    "        t1 = (8 - i + 1) / 2\n",
    "        t2 = (8 - (15 - i)) / 2\n",
    "        exponent1 = (-x[1] * (t1 - x[2]) ** 2) / 2\n",
    "        exponent2 = (-x[1] * (t2 - x[2]) ** 2) / 2\n",
    "\n",
    "        # Partial derivative with respect to x[0]\n",
    "        gradient[0] += 2 * (x[0] * np.exp(exponent1) - y) * np.exp(exponent1)\n",
    "        gradient[0] += 2 * (x[0] * np.exp(exponent2) - y) * np.exp(exponent2)\n",
    "\n",
    "        # Partial derivative with respect to x[1]\n",
    "        gradient[1] += 2 * x[0] * (x[2] ** 2) * (x[0] * np.exp(exponent2) - 0.3989) * np.exp(exponent2)\n",
    "\n",
    "        # Partial derivative with respect to x[2]\n",
    "        gradient[2] += 2 * x[0] * x[1] * (x[0] * np.exp(exponent2) - 0.3989) * x[2] * np.exp(exponent2)\n",
    "\n",
    "    return gradient\n"
   ]
  },
  {
   "cell_type": "markdown",
   "id": "49396cb8-8c25-4a9d-88c5-3d265e81cb54",
   "metadata": {},
   "source": [
    "$$\\frac{\\partial ^2f}{\\partial x_ix_j}\\:=f\\left(x\\right)\\left(A_{i,j}-\\sum _k^{ }\\:A_{i,k}x_kA_{k,j}\\right)$$"
   ]
  },
  {
   "cell_type": "code",
   "execution_count": 17,
   "id": "20db8476-8138-464d-b10a-df1f1ad307e5",
   "metadata": {},
   "outputs": [],
   "source": [
    "def gaussian_hessian(x):\n",
    "    ys = [0.0009, 0.0044, 0.0175, 0.0540, 0.1295, 0.2420, 0.3521]\n",
    "    hessian = np.zeros((len(x), len(x)))\n",
    "\n",
    "    for i, y in enumerate(ys):\n",
    "        t1 = (8 - i + 1) / 2\n",
    "        t2 = (8 - (15 - i)) / 2\n",
    "        exponent1 = (-x[1] * (t1 - x[2]) ** 2) / 2\n",
    "        exponent2 = (-x[1] * (t2 - x[2]) ** 2) / 2\n",
    "\n",
    "        # Second partial derivative with respect to x[0]\n",
    "        hessian[0, 0] += 2 * np.exp(exponent1) ** 2 + 2 * np.exp(exponent2) ** 2\n",
    "\n",
    "        # Second partial derivative with respect to x[1]\n",
    "        hessian[1, 1] += 2 * (x[0] * (x[2] ** 2) * np.exp(exponent2)) ** 2\n",
    "\n",
    "        # Second partial derivative with respect to x[2]\n",
    "        hessian[2, 2] += 2 * (x[0] * x[1] * x[2] * np.exp(exponent2)) ** 2\n",
    "\n",
    "        # Cross derivatives\n",
    "        hessian[0, 1] += 4 * x[0] * x[1] * (x[2] ** 2) * np.exp(exponent2) * np.exp(exponent2)\n",
    "        hessian[1, 0] = hessian[0, 1]\n",
    "\n",
    "        hessian[0, 2] += 4 * x[0] * x[1] * x[2] * (x[0] * np.exp(exponent2) - 0.3989) * np.exp(exponent2)\n",
    "        hessian[2, 0] = hessian[0, 2]\n",
    "\n",
    "        hessian[1, 2] += 2 * x[0] * (x[0] * np.exp(exponent2) - 0.3989) * (2 * x[1] * x[2] ** 2) * np.exp(exponent2)\n",
    "        hessian[2, 1] = hessian[1, 2]\n",
    "\n",
    "    return hessian"
   ]
  },
  {
   "cell_type": "code",
   "execution_count": 18,
   "id": "d0366e7c-94d4-45a9-bc93-e4ca4d96b643",
   "metadata": {},
   "outputs": [],
   "source": [
    "def three_dimensional_box(x):\n",
    "    t = 0.1 * np.arange(1, 11)\n",
    "    return np.linalg.norm(np.exp(-t * x[0]) - np.exp(-t *  x[1]) -  x[2] * (np.exp(-t) - np.exp(-10 * t)))\n",
    "\n"
   ]
  },
  {
   "cell_type": "code",
   "execution_count": 91,
   "id": "e96f0fcc-960a-4b5a-abe9-d81bb44221b5",
   "metadata": {},
   "outputs": [],
   "source": [
    "def three_dimensional_box_gradient(x):\n",
    "    t = 0.1 * np.arange(1, 11)\n",
    "    gradient = np.zeros_like(x)\n",
    "\n",
    "    for i in range(len(t)):\n",
    "        exp_term = np.exp(-t[i] * x[0])\n",
    "        gradient[0] += 2 * (exp_term - np.exp(-t[i] * x[1]) - x[2] * t[i] * exp_term)\n",
    "        gradient[1] -= 2 * t[i] * np.exp(-t[i] * x[1]) * (exp_term - x[2] * t[i] * exp_term)\n",
    "        gradient[2] -= 2 * (np.exp(-t[i]) - np.exp(-10 * t[i])) * exp_term\n",
    "\n",
    "    return gradient"
   ]
  },
  {
   "cell_type": "code",
   "execution_count": 90,
   "id": "07e4c9c7-b462-43e7-8c11-a96b005dff64",
   "metadata": {},
   "outputs": [],
   "source": [
    "def three_dimensional_box_hessian(x, epsilon=1e-5):\n",
    "    n = len(x)\n",
    "    hessian = np.zeros((n, n))\n",
    "\n",
    "    for i in range(n):\n",
    "        for j in range(n):\n",
    "            x_plus_eps = x.copy()\n",
    "            x_plus_eps[i] += epsilon\n",
    "            x_plus_eps[j] += epsilon\n",
    "            x_minus_eps = x.copy()\n",
    "            x_minus_eps[i] -= epsilon\n",
    "            x_minus_eps[j] -= epsilon\n",
    "\n",
    "            hessian[i, j] = (three_dimensional_box_gradient(x_plus_eps)[j] - three_dimensional_box_gradient(x_minus_eps)[j]) / (2 * epsilon)\n",
    "\n",
    "    return hessian"
   ]
  },
  {
   "cell_type": "code",
   "execution_count": 19,
   "id": "492c9cee-1a4f-4586-93de-e7e4bc698b0f",
   "metadata": {},
   "outputs": [
    {
     "name": "stdout",
     "output_type": "stream",
     "text": [
      "The value of the Three-Dimensional Box Function is: 32.11158374495718\n"
     ]
    }
   ],
   "source": [
    "x_test, y_test, z_test = 0, 10, 20\n",
    "\n",
    "result = three_dimensional_box([x_test, y_test, z_test])\n",
    "print(f\"The value of the Three-Dimensional Box Function is: {result}\")"
   ]
  },
  {
   "cell_type": "code",
   "execution_count": 20,
   "id": "30193ff5-b6dd-4873-96a6-5b96feae860e",
   "metadata": {},
   "outputs": [
    {
     "name": "stdout",
     "output_type": "stream",
     "text": [
      "Optimal x: [1.00035547e+01 1.00035551e+01 2.03012288e-08]\n",
      "Minimum value of the function: 2.6852718877011665e-08\n",
      "iterations: 21\n"
     ]
    }
   ],
   "source": [
    "initial_guess = np.ones(3)*10\n",
    "iterations=[]\n",
    "# Minimize the Three-Dimensional Box Function\n",
    "result = minimize(three_dimensional_box, initial_guess, method='BFGS',callback=callback)\n",
    "\n",
    "# Print the result\n",
    "print(\"Optimal x:\", result.x)\n",
    "print(\"Minimum value of the function:\", result.fun)\n",
    "print(\"iterations:\",len(iterations))"
   ]
  },
  {
   "cell_type": "markdown",
   "id": "5b7331e4-1b2f-4591-93f2-0ea9dd997efa",
   "metadata": {},
   "source": [
    "$$f\\left(x,y,z\\right)=\\:\\left(x^2+y-11\\right)^2+\\left(x+y^2-7\\right)^2+z^2\\:$$\n"
   ]
  },
  {
   "cell_type": "markdown",
   "id": "5c3f6091-572c-401f-a8d5-35c03ad34657",
   "metadata": {},
   "source": [
    "$$\\frac{\\partial f}{\\partial x}\\:=4x\\left(x^2+y-11\\right)+2\\left(x+y^2-7\\right)$$"
   ]
  },
  {
   "cell_type": "markdown",
   "id": "e9b6e844-4690-458a-8642-bf6a3be7a200",
   "metadata": {},
   "source": [
    "$$\\frac{\\partial f}{\\partial y}\\:=2\\left(x^2+y-11\\right)+4y\\left(x+y^2-7\\right)$$"
   ]
  },
  {
   "cell_type": "markdown",
   "id": "9d9ed94e-3fbe-4476-8a65-1fd1a79d634e",
   "metadata": {},
   "source": [
    "$$\\frac{\\partial f}{\\partial z}\\:=2z$$"
   ]
  },
  {
   "cell_type": "code",
   "execution_count": 23,
   "id": "57e42a6c-b4c0-40ee-9dcb-e8cdff4a38d9",
   "metadata": {},
   "outputs": [
    {
     "data": {
      "text/plain": [
       "array([[ 356,   40,    0],\n",
       "       [  40, 2356,    0],\n",
       "       [   0,    0,    2]])"
      ]
     },
     "execution_count": 23,
     "metadata": {},
     "output_type": "execute_result"
    }
   ],
   "source": [
    "hessian_three_dimensional_box([x_test, y_test, z_test])"
   ]
  },
  {
   "cell_type": "markdown",
   "id": "8fe66fd9-c870-4a7a-a56b-6c2724a7b8cd",
   "metadata": {},
   "source": [
    "$$\\frac{\\partial ^2f}{\\partial x^2}\\:=4\\cdot \\left(3x^2+10-11\\right)+2$$"
   ]
  },
  {
   "cell_type": "markdown",
   "id": "094f3a72-4e3a-4b9b-b31d-7b1d3bda623d",
   "metadata": {},
   "source": [
    "$$\\frac{\\partial ^2f}{\\partial y^2}\\:=4\\left(x+3y^2-7\\right)+2$$"
   ]
  },
  {
   "cell_type": "markdown",
   "id": "2d5f94ce-1a20-4670-942e-ece53fa7b80c",
   "metadata": {},
   "source": [
    "$$\\frac{\\partial ^2f}{\\partial z^2}\\:=2$$"
   ]
  },
  {
   "cell_type": "markdown",
   "id": "8e9f8819-bf5b-4b03-96ce-ed2021543f50",
   "metadata": {},
   "source": [
    "$$\\frac{\\partial ^2f}{\\partial x\\partial \\:y}\\:=\\frac{\\partial \\:^2f}{\\partial \\:y\\partial \\:\\:x}\\:=4\\left(x+2y\\right)$$"
   ]
  },
  {
   "cell_type": "code",
   "execution_count": 24,
   "id": "023da156-e418-41b9-a262-40474b9fdebc",
   "metadata": {},
   "outputs": [
    {
     "name": "stdout",
     "output_type": "stream",
     "text": [
      "Vector of f(x): 25.523785203435466\n"
     ]
    }
   ],
   "source": [
    "def variably_dimensioned_function(x):\n",
    "    n = len(x)\n",
    "    result = np.empty(n+2)\n",
    "\n",
    "    # f1 to fn\n",
    "    result[:n] = x - 1\n",
    "\n",
    "    # fn+1\n",
    "    result[n] = np.sum(np.arange(1, n+1) * (x - 1))\n",
    "\n",
    "    # fn+2\n",
    "    result[n+1] = np.sum(np.arange(1, n+1) * (x - 1))**2\n",
    "\n",
    "    return np.linalg.norm(result)\n",
    "\n",
    "# Example usage\n",
    "n=5\n",
    "x_values = np.array([1-1/j for j in range(1,n+1)])  # Replace with your specific values\n",
    "\n",
    "result_vector = variably_dimensioned_function(x_values)\n",
    "print(\"Vector of f(x):\", result_vector)\n"
   ]
  },
  {
   "cell_type": "markdown",
   "id": "dec63fff-4a65-4e3e-b44d-1d269303343d",
   "metadata": {},
   "source": [
    "$$f(x) = \\| [x_1 - 1, x_2 - 1, \\ldots, x_n - 1, \\sum_{i=1}^{n} i \\cdot (x_i - 1), \\left(\\sum_{i=1}^{n} i \\cdot (x_i - 1)\\right)^2] \\|^2$$\r\n"
   ]
  },
  {
   "cell_type": "markdown",
   "id": "9eeb3354-5193-417e-96ee-7f7f4ef20ae6",
   "metadata": {},
   "source": [
    "$$\\nabla f = 2 \\cdot \\begin{bmatrix}\r\n",
    "x_1 - 1 \\\\\r\n",
    "x_2 - 1 \\\\\r\n",
    "\\vdots \\\\\r\n",
    "x_n - 1 \\\\\r\n",
    "\\sum_{i=1}^{n} i \\cdot (x_i - 1) \\\\\r\n",
    "2 \\cdot \\sum_{i=1}^{n} i \\cdot (x_i - 1) \\cdot \\sum_{i=1}^{n} i \\cdot (x_i - 1) \\\\\r\n",
    "\\end{bmatrix}\r\n",
    "$$"
   ]
  },
  {
   "cell_type": "code",
   "execution_count": 25,
   "id": "60a2d3d3-2265-4fe2-b4d1-e6ea5c78d1e4",
   "metadata": {},
   "outputs": [
    {
     "name": "stdout",
     "output_type": "stream",
     "text": [
      "Optimal x: [1.         1.00000003 1.00000001 1.00000001 0.99999997]\n",
      "Minimum value of the function: 4.4519732194048033e-08\n",
      "Iterations: 34\n"
     ]
    }
   ],
   "source": [
    "initial_guess = x_values\n",
    "iterations=[]\n",
    "result = minimize(variably_dimensioned_function, initial_guess, method='BFGS',callback=callback)\n",
    "\n",
    "# Print the result\n",
    "print(\"Optimal x:\", result.x)\n",
    "print(\"Minimum value of the function:\", result.fun)\n",
    "print(\"Iterations:\",len(iterations))"
   ]
  },
  {
   "cell_type": "code",
   "execution_count": 94,
   "id": "adec7daf-ac06-4837-812d-569254a22793",
   "metadata": {},
   "outputs": [],
   "source": [
    "def variably_dimensioned_function_gradient(x):\n",
    "    n = len(x)\n",
    "    gradient = np.zeros_like(x)\n",
    "\n",
    "    # Partial derivatives for f1 to fn\n",
    "    gradient[:n] = 2 * (x - 1)\n",
    "\n",
    "    # Partial derivative for fn+1\n",
    "    gradient[n] = 2 * np.sum(np.arange(1, n+1) * (x - 1))\n",
    "\n",
    "    # Partial derivative for fn+2\n",
    "    gradient[n+1] = 2 * np.sum(np.arange(1, n+1) * (x - 1)) * np.sum(np.arange(1, n+1) * (x - 1))\n",
    "\n",
    "    return gradient"
   ]
  },
  {
   "cell_type": "code",
   "execution_count": 95,
   "id": "d110c191-f558-48e4-8cd3-9751e3d399a4",
   "metadata": {},
   "outputs": [
    {
     "data": {
      "text/plain": [
       "array([ 6.07326594e-06,  3.00287986e-06,  9.41077408e-06, -5.49500736e-06])"
      ]
     },
     "execution_count": 95,
     "metadata": {},
     "output_type": "execute_result"
    }
   ],
   "source": [
    "gradient_variably(np.array([ 3.03663297e-06,1.50143993e-06,4.70538704e-06,-2.74750368e-06]))"
   ]
  },
  {
   "cell_type": "code",
   "execution_count": 97,
   "id": "c42c9d70-fb09-42ad-a050-65e811fbf688",
   "metadata": {},
   "outputs": [],
   "source": [
    "def variably_dimensioned_function_hessian(x, epsilon=1e-5):\n",
    "    n = len(x)\n",
    "    hessian = np.zeros((n, n))\n",
    "\n",
    "    for i in range(n):\n",
    "        for j in range(n):\n",
    "            x_plus_eps = x.copy()\n",
    "            x_plus_eps[i] += epsilon\n",
    "            x_plus_eps[j] += epsilon\n",
    "            x_minus_eps = x.copy()\n",
    "            x_minus_eps[i] -= epsilon\n",
    "            x_minus_eps[j] -= epsilon\n",
    "\n",
    "            hessian[i, j] = (variably_dimensioned_function_gradient(x_plus_eps)[j] - variably_dimensioned_function_gradient(x_minus_eps)[j]) / (2 * epsilon)\n",
    "\n",
    "    return hessian\n"
   ]
  },
  {
   "cell_type": "code",
   "execution_count": 29,
   "id": "b726ac40-86ef-41ee-91f9-4fad9ffe507a",
   "metadata": {},
   "outputs": [
    {
     "data": {
      "text/plain": [
       "array([[2., 0., 0., 0.],\n",
       "       [0., 2., 0., 0.],\n",
       "       [0., 0., 2., 0.],\n",
       "       [0., 0., 0., 2.]])"
      ]
     },
     "execution_count": 29,
     "metadata": {},
     "output_type": "execute_result"
    }
   ],
   "source": [
    "hessian_variably(np.array([ 3.03663297e-06,1.50143993e-06,4.70538704e-06,-2.74750368e-06]))"
   ]
  },
  {
   "cell_type": "code",
   "execution_count": 30,
   "id": "92d2bd29-f593-436c-bc4f-2529ed8d8acd",
   "metadata": {},
   "outputs": [],
   "source": [
    "def watson_function(x):\n",
    "    n = len(x)\n",
    "    result = 0\n",
    "    ans=np.zeros(31)\n",
    "    for i in range(1, 30):\n",
    "        a1=0\n",
    "        a2=0\n",
    "        t=i/29\n",
    "        for j in range(1,n):\n",
    "            a1+=(j)*x[j]*t**(j-1)\n",
    "        for j in range(n):\n",
    "            a2+=(x[j]*t**j)**2\n",
    "        ans[i-1]=a1-a2-1\n",
    "    ans[-2]=x[0]\n",
    "    ans[-1]=x[1]+x[0]**2 -1\n",
    "    return np.linalg.norm(ans)\n"
   ]
  },
  {
   "cell_type": "markdown",
   "id": "466ddfd2-14eb-4b30-b16c-6afc8dc168e7",
   "metadata": {},
   "source": [
    "$$\\frac{\\partial f}{\\partial x_{i-1}}=2\\left(x_{i-1}-1\\right)x_{i-1}\\left(1-e^{-x_{i-1}^2}\\right)+\\frac{20\\:x_{i-1}}{\\sqrt{i}}\\cdot \\left(\\frac{\\:x_{i-1}}{\\sqrt{i}}-e^{^2\\frac{-x_{i-1}}{\\sqrt{\\left(i\\right)}}}\\right)e^{^2\\frac{-x_{i-1}}{\\sqrt{\\left(i\\right)}}}$$"
   ]
  },
  {
   "cell_type": "code",
   "execution_count": 31,
   "id": "3a5b25f8-cd89-4ab1-b2b1-932119089ae0",
   "metadata": {},
   "outputs": [],
   "source": [
    "import numpy as np\n",
    "\n",
    "def watson_gradient(x):\n",
    "    n = len(x)\n",
    "    gradient = np.zeros(n)\n",
    "\n",
    "    for i in range(1, n):\n",
    "        term1 = 2 * (x[i-1] - 1) * x[i-1] * (1 - np.exp(-x[i-1]**2))\n",
    "        term2 = (20 * x[i-1] / np.sqrt(i)) * ((x[i-1] / np.sqrt(i)) - np.exp(-x[i-1]**2 / np.sqrt(i))) * np.exp(-x[i-1]**2 / np.sqrt(i))\n",
    "        gradient[i-1] = term1 + term2\n",
    "\n",
    "    return gradient\n"
   ]
  },
  {
   "cell_type": "markdown",
   "id": "311f6f03-ea22-4aa0-bb69-3f0ff879e639",
   "metadata": {},
   "source": [
    "$$ H_{ij} = 2 \\left[ (1 - e^{-x_{i-1}^2}) - 2x_{i-1}^2 e^{-x_{i-1}^2} \\right] \\delta_{ij} + 20 \\left( \\frac{\\delta_{ij}}{\\sqrt{i}} - \\frac{x_{i-1}x_{j-1}}{i} \\right) e^{-x_{i-1}^2/\\sqrt{i}} e^{-x_{j-1}^2/\\sqrt{j}} \n",
    "$$"
   ]
  },
  {
   "cell_type": "code",
   "execution_count": 32,
   "id": "e5a4c67d-442b-4e95-9922-e8207f237721",
   "metadata": {},
   "outputs": [],
   "source": [
    "def watson_hessian(x):\n",
    "    n = len(x)\n",
    "    hessian = np.zeros((n, n))\n",
    "\n",
    "    for i in range(1, n):\n",
    "        for j in range(1, n):\n",
    "            delta_ij = 1 if i == j else 0\n",
    "            term1 = 2 * ((1 - np.exp(-x[i-1]**2)) - 2 * x[i-1]**2 * np.exp(-x[i-1]**2)) * delta_ij\n",
    "            term2 = (40 * x[i-1] / np.sqrt(i)) * ((1 / np.sqrt(i)) - 2 * x[i-1] * np.exp(-x[i-1]**2 / np.sqrt(i)))\n",
    "            term3 = (40 * x[i-1] / np.sqrt(j)) * ((1 / np.sqrt(j)) - 2 * x[i-1] * np.exp(-x[i-1]**2 / np.sqrt(j)))\n",
    "            term4 = np.exp(-x[i-1]**2 / np.sqrt(i+j))\n",
    "            hessian[i-1, j-1] = term1 + term2 * term3 * term4\n",
    "\n",
    "    return hessian\n",
    "\n"
   ]
  },
  {
   "cell_type": "code",
   "execution_count": 33,
   "id": "a47df64c-3ead-402d-96d8-b37fbf1ea20c",
   "metadata": {},
   "outputs": [
    {
     "name": "stdout",
     "output_type": "stream",
     "text": [
      "Optimal x: [-1.06312021e-08  9.97966220e-01  1.43529299e-02  3.16885350e-01\n",
      " -3.19036044e-02  4.94903016e-02]\n",
      "Minimum value of the function: 0.006453858327920113\n"
     ]
    }
   ],
   "source": [
    "# Example usage\n",
    "dimension = 6\n",
    "variables = np.random.rand(dimension)\n",
    "\n",
    "result = watson_function(variables)\n",
    "\n",
    "from scipy.optimize import minimize\n",
    "\n",
    "# Initial guess\n",
    "initial_guess = np.zeros(dimension)\n",
    "\n",
    "# Minimize the Watson function\n",
    "result = minimize(watson_function, initial_guess, method='BFGS')\n",
    "\n",
    "print(\"Optimal x:\", result.x)\n",
    "print(\"Minimum value of the function:\", result.fun)"
   ]
  },
  {
   "cell_type": "code",
   "execution_count": 34,
   "id": "91ef0581-539b-4f42-95e1-fef7e10c595c",
   "metadata": {},
   "outputs": [
    {
     "data": {
      "text/plain": [
       "array([[  10.53263705,  -14.48454436,  -20.92755689,  -23.19647069,\n",
       "           0.        ],\n",
       "       [ -29.69988449,   39.17406379,   58.29345796,   65.52108725,\n",
       "           0.        ],\n",
       "       [ -77.26635041,   64.01601392,  104.43601579,  121.57569034,\n",
       "           0.        ],\n",
       "       [-132.29294028,   67.97153114,  128.25931512,  154.56712409,\n",
       "           0.        ],\n",
       "       [   0.        ,    0.        ,    0.        ,    0.        ,\n",
       "           0.        ]])"
      ]
     },
     "execution_count": 34,
     "metadata": {},
     "output_type": "execute_result"
    }
   ],
   "source": [
    "watson_hessian(np.array([0.65494518, 0.85254106, 0.98749282, 1.0909896, 0.]))"
   ]
  },
  {
   "cell_type": "code",
   "execution_count": 35,
   "id": "8804efa3-1c05-4198-a238-2a8643737954",
   "metadata": {},
   "outputs": [
    {
     "data": {
      "text/plain": [
       "array([-0.12562862, -0.0959441 , -0.01129189,  0.10207429,  0.        ])"
      ]
     },
     "execution_count": 35,
     "metadata": {},
     "output_type": "execute_result"
    }
   ],
   "source": [
    "watson_gradient(np.array([0.65494518, 0.85254106, 0.98749282, 1.0909896, 0.]))"
   ]
  },
  {
   "cell_type": "code",
   "execution_count": 36,
   "id": "626c4200-580e-44ea-bbef-9fd2442a605d",
   "metadata": {},
   "outputs": [],
   "source": [
    "def penalty_function_I(x):\n",
    "    \"\"\"\n",
    "    x: numpy array, representing the vector of variables\n",
    "    constraints: list of constraint functions\n",
    "    \"\"\"\n",
    "    a=10e-5\n",
    "    n=len(x)\n",
    "    ans=np.zeros(n+1)\n",
    "    ans[:n] =a*x-1\n",
    "    ans[-1]=np.linalg.norm(x)**2-1/4\n",
    "    \n",
    "    return np.linalg.norm(ans)**2\n",
    "\n",
    "# Example usage with a simple constraint\n",
    "\n",
    "initial_guess = np.random.rand(dimension)"
   ]
  },
  {
   "cell_type": "code",
   "execution_count": 37,
   "id": "b6464a6d-16ad-4234-bf7c-ab1e54528898",
   "metadata": {},
   "outputs": [
    {
     "data": {
      "text/plain": [
       "14.245214502155747"
      ]
     },
     "execution_count": 37,
     "metadata": {},
     "output_type": "execute_result"
    }
   ],
   "source": [
    "penalty_function_I(initial_guess)"
   ]
  },
  {
   "cell_type": "code",
   "execution_count": 38,
   "id": "412e4cec-83f3-42a0-b8a8-13592d63c1bd",
   "metadata": {},
   "outputs": [
    {
     "name": "stdout",
     "output_type": "stream",
     "text": [
      "Optimal x: [0.16000229 0.1580955  0.15681293 0.15673907 0.1580507  0.15754714\n",
      " 0.16227176 0.15465012 0.15931135 0.1585308 ]\n",
      "Minimum value of the function: 9.999683699006326\n"
     ]
    }
   ],
   "source": [
    "# Minimize the Watson function\n",
    "initial_guess=np.array(range(1,11))\n",
    "result = minimize(penalty_function_I, initial_guess, method='BFGS')\n",
    "\n",
    "print(\"Optimal x:\", result.x)\n",
    "print(\"Minimum value of the function:\", result.fun)"
   ]
  },
  {
   "cell_type": "markdown",
   "id": "1330fcb8-6387-4e94-bdcf-f403240dcc2b",
   "metadata": {},
   "source": [
    "$$P\\left(x\\right)=\\sum _m^{ }\\:max\\left(0,constrain\\left(x\\right)\\right)^2$$"
   ]
  },
  {
   "cell_type": "markdown",
   "id": "1ab22d1b-8e53-4287-a36f-e304ac0d5ebf",
   "metadata": {},
   "source": [
    "$$\\nabla P(\\mathbf{x}) = 2 \\sum_{i=1}^{m} \\left\\{\n",
    "\\begin{array}{ll}\n",
    "c_i(\\mathbf{x}) \\nabla c_i(\\mathbf{x}), & \\text{if } c_i(\\mathbf{x}) < 0 \\\\\n",
    "0, & \\text{otherwise}\n",
    "\\end{array}\n",
    "\\right.$$"
   ]
  },
  {
   "cell_type": "markdown",
   "id": "f07e53b2-300e-4b11-bb18-56201fcf09b6",
   "metadata": {},
   "source": [
    "$$\\mathbf{H}_{ij} = 2 \\sum_{k=1}^{m} \\left\\{\n",
    "\\begin{array}{ll}\n",
    "\\nabla c_k(\\mathbf{x})\\nabla c_i(\\mathbf{x}), & \\text{if } c_i(\\mathbf{x}) < 0 \\text{ and } c_k(\\mathbf{x}) < 0 \\\\\n",
    "0, & \\text{otherwise}\n",
    "\\end{array}\n",
    "\\right.$$"
   ]
  },
  {
   "cell_type": "code",
   "execution_count": 39,
   "id": "d38cdf32-8841-4010-8f2d-43bfd6f2b99a",
   "metadata": {},
   "outputs": [
    {
     "name": "stdout",
     "output_type": "stream",
     "text": [
      "Optimal x: [0.16000229 0.1580955  0.15681293 0.15673907 0.1580507  0.15754714\n",
      " 0.16227176 0.15465012 0.15931135 0.1585308 ]\n",
      "Minimum value of the function: 9.999683699006326\n"
     ]
    }
   ],
   "source": [
    "# Minimize the Watson function\n",
    "result = minimize(lambda x: penalty_function_I(x), initial_guess, method='BFGS')\n",
    "\n",
    "print(\"Optimal x:\", result.x)\n",
    "print(\"Minimum value of the function:\", result.fun)"
   ]
  },
  {
   "cell_type": "code",
   "execution_count": 40,
   "id": "d9e05a4c-b18f-41e9-a630-bf36524f44c7",
   "metadata": {},
   "outputs": [],
   "source": [
    "import numpy as np\n",
    "def penalty_function_I_gradient(x, constraints):\n",
    "    \"\"\"\n",
    "    Compute the gradient of penalty_function_I with respect to x.\n",
    "    \"\"\"\n",
    "    gradient = np.zeros_like(x)  # Initialize the gradient vector with zeros\n",
    "    \n",
    "    for constraint in constraints:\n",
    "        constraint_value = constraint(x)\n",
    "        if constraint_value < 0:\n",
    "            gradient += 2 * constraint_value * np.array([constraint(x) for i in range(len(x))])\n",
    "    \n",
    "    return gradient\n",
    "\n"
   ]
  },
  {
   "cell_type": "code",
   "execution_count": 41,
   "id": "f6cc2204-da73-4e7a-a31b-f886c0213264",
   "metadata": {},
   "outputs": [],
   "source": [
    "def penalty_function_I_hessian(x, constraints):\n",
    "    \"\"\"\n",
    "    Compute the Hessian matrix of penalty_function_I with respect to x.\n",
    "    \"\"\"\n",
    "    n = len(x)\n",
    "    hessian = np.zeros((n, n))  # Initialize the Hessian matrix with zeros\n",
    "    \n",
    "    for i in range(n):\n",
    "        for j in range(n):\n",
    "            for constraint in constraints:\n",
    "                constraint_i = constraint(x) \n",
    "                constraint_j = constraint(x)\n",
    "                \n",
    "                if constraint_i < 0 and constraint_j < 0:\n",
    "                    hessian[i, j] += 2 * constraint_i * constraint_j\n",
    "    \n",
    "    return hessian"
   ]
  },
  {
   "cell_type": "code",
   "execution_count": null,
   "id": "c77b2e52-bdb4-4527-bf77-ad90cae7900e",
   "metadata": {},
   "outputs": [],
   "source": []
  },
  {
   "cell_type": "markdown",
   "id": "9b997282-4755-4045-ba46-d3134e2cae52",
   "metadata": {},
   "source": [
    "$$f(x) = \\sum_{i=0}^{n-2} \\left( (x_i ^2)^{x_(i+1)^2 + 1} + (x_(i+1)^2)^{x_i^2 + 1} \\right)$$"
   ]
  },
  {
   "cell_type": "code",
   "execution_count": 42,
   "id": "713bffe9-eb1a-4599-9d5e-6cc8b3acb021",
   "metadata": {},
   "outputs": [],
   "source": [
    "def penalty_function_II(x):\n",
    "    \"\"\"\n",
    "    x: numpy array, representing the vector of variables\n",
    "    constraints: list of constraint functions\n",
    "    \"\"\"\n",
    "    a=10e-5\n",
    "    n=len(x)\n",
    "    \n",
    "    ans=np.zeros(2*n)\n",
    "    ans[0]=x[0]-0.2\n",
    "    y1=np.array([np.exp((i+1)/10)-np.exp((i)/10) for i in range(n-1)])\n",
    "    y2=np.array([np.exp((i+1)/10) for i in range(n-1)])\n",
    "    ans[1:n] =a**0.5*(np.exp(x[1:]/10)+np.exp(x[:n-1]/10)-y1)\n",
    "    ans[n:-1] =a**0.5*(np.exp(x[1:]/10)-y2)\n",
    "    ans[-1]=np.sum([((n-j)*x[j]**2) for j in range(n)])\n",
    "    \n",
    "    return np.linalg.norm(ans)**2"
   ]
  },
  {
   "cell_type": "code",
   "execution_count": 43,
   "id": "85da2da6-68f1-4126-b9d2-a83befbaaea6",
   "metadata": {},
   "outputs": [
    {
     "name": "stdout",
     "output_type": "stream",
     "text": [
      "Optimal x: [ 1.29875272e-01 -8.82752006e-05 -1.27193508e-04 -1.10731286e-04]\n",
      "Minimum value of the function: 0.010557098048339484\n",
      "Iterations: 49\n"
     ]
    }
   ],
   "source": [
    "# Initial guess\n",
    "dimension=4\n",
    "initial_guess = np.ones(dimension)/2\n",
    "iteration=[]\n",
    "# Minimize the Brown Badly Scaled Function\n",
    "result = minimize(penalty_function_II, initial_guess, method='BFGS',callback=callback)\n",
    "print(\"Optimal x:\", result.x)\n",
    "print(\"Minimum value of the function:\", result.fun)\n",
    "print(\"Iterations:\",len(iterations))"
   ]
  },
  {
   "cell_type": "code",
   "execution_count": 44,
   "id": "26bdad6e-651f-44dd-b380-802df5928cfb",
   "metadata": {},
   "outputs": [],
   "source": [
    "def brown_badly_scaled(x):\n",
    "    n = len(x)\n",
    "    result = 0\n",
    "\n",
    "\n",
    "    term1 = x[0] -1e6\n",
    "    term2 = x[1] -2e-6\n",
    "    term3 = x[0]*x[1] -2\n",
    "    result += term1**2+ term2**2 +term3**2\n",
    "\n",
    "    return result"
   ]
  },
  {
   "cell_type": "code",
   "execution_count": 45,
   "id": "c30fdce2-9cdf-4612-adab-f14bf8c3d316",
   "metadata": {},
   "outputs": [
    {
     "name": "stdout",
     "output_type": "stream",
     "text": [
      "Optimal solution: [1.00000000e+06 1.99254942e-06]\n",
      "Optimal function value: 5.551114377728232e-05\n",
      "Iterations: 14\n"
     ]
    }
   ],
   "source": [
    "# Initial guess\n",
    "dimension=2\n",
    "initial_guess = np.ones(dimension)\n",
    "iterations=[]\n",
    "# Minimize the Brown Badly Scaled Function\n",
    "result = minimize(brown_badly_scaled, initial_guess, method='BFGS',callback=callback)\n",
    "\n",
    "\n",
    "\n",
    "print(\"Optimal solution:\", result.x)\n",
    "print(\"Optimal function value:\", result.fun)\n",
    "print(\"Iterations:\",len(iterations))"
   ]
  },
  {
   "cell_type": "markdown",
   "id": "1eb0e7da-0c95-4eab-ab81-41fa05ad0df4",
   "metadata": {},
   "source": [
    "$$\\frac{\\partial f}{\\partial x_i} = 2 \\cdot x_i \\cdot (x_{i+1}^2)^{x_i^2} \\cdot \\ln(x_i^2) \\cdot (x_i^2 + 1) + 2 \\cdot x_{i+1} \\cdot (x_i^2)^{x_{i+1}^2} \\cdot \\ln(x_{i+1}^2) \\cdot (x_{i+1}^2 + 1)$$"
   ]
  },
  {
   "cell_type": "code",
   "execution_count": 46,
   "id": "8d7776b8-0838-4490-8d2c-787179e90774",
   "metadata": {},
   "outputs": [],
   "source": [
    "def gradient_brown_badly_scaled(x):\n",
    "    n = len(x)\n",
    "    gradient = np.zeros_like(x, dtype=float)\n",
    "\n",
    "    for i in range(n-1):\n",
    "        term1 = 2 * x[i] * (x[i+1]**2)**(x[i]**2) * np.log(x[i]**2) * (x[i]**2 + 1)\n",
    "        term2 = 2 * x[i+1] * (x[i]**2)**(x[i+1]**2) * np.log(x[i+1]**2) * (x[i+1]**2 + 1)\n",
    "\n",
    "        gradient[i] += term1\n",
    "        gradient[i+1] += term2\n",
    "\n",
    "    return gradient"
   ]
  },
  {
   "cell_type": "code",
   "execution_count": 47,
   "id": "c9e11133-33db-4f12-9936-2dd89dd0f2ca",
   "metadata": {},
   "outputs": [
    {
     "data": {
      "text/plain": [
       "array([-1.02963991e-04, -1.89858979e-04, -1.56295018e-04,  4.04920907e-05,\n",
       "       -1.05659025e-04])"
      ]
     },
     "execution_count": 47,
     "metadata": {},
     "output_type": "execute_result"
    }
   ],
   "source": [
    "gradient_brown_badly_scaled([1.95848211e-06,1.79366035e-06,1.45346821e-06,-3.39815933e-07,2.01403015e-06])"
   ]
  },
  {
   "cell_type": "markdown",
   "id": "5c0bfba8-1bb7-452b-9af3-947f20448319",
   "metadata": {},
   "source": [
    "$$ H_{ij} = 2 \\cdot (x_i^2)^{x_j^2} \\cdot \\ln(x_i^2) \\cdot (x_i^2 + 1) \\cdot (x_j^2 + 1) $$"
   ]
  },
  {
   "cell_type": "code",
   "execution_count": 48,
   "id": "f9508ca6-d650-4341-91a8-fbee76fcc354",
   "metadata": {},
   "outputs": [],
   "source": [
    "def hessian_brown_badly_scaled(x):\n",
    "    n = len(x)\n",
    "    hessian = np.zeros((n, n), dtype=float)\n",
    "\n",
    "    for i in range(n):\n",
    "        for j in range(n):\n",
    "            term = 2 * (x[i]**2)**(x[j]**2) * np.log(x[i]**2) * (x[i]**2 + 1) * (x[j]**2 + 1)\n",
    "            hessian[i, j] = term\n",
    "\n",
    "    return hessian"
   ]
  },
  {
   "cell_type": "code",
   "execution_count": 49,
   "id": "2f0e7769-5bef-4d63-9057-99e4e92654f2",
   "metadata": {},
   "outputs": [
    {
     "data": {
      "text/plain": [
       "array([[-52.57336327, -52.57336327, -52.57336327, -52.57336327,\n",
       "        -52.57336327],\n",
       "       [-52.92500855, -52.92500855, -52.92500855, -52.92500855,\n",
       "        -52.92500855],\n",
       "       [-53.76623195, -53.76623195, -53.76623195, -53.76623195,\n",
       "        -53.76623195],\n",
       "       [-59.57944695, -59.57944695, -59.57944695, -59.57944696,\n",
       "        -59.57944695],\n",
       "       [-52.46149117, -52.46149117, -52.46149117, -52.46149117,\n",
       "        -52.46149117]])"
      ]
     },
     "execution_count": 49,
     "metadata": {},
     "output_type": "execute_result"
    }
   ],
   "source": [
    "hessian_brown_badly_scaled([1.95848211e-06,1.79366035e-06,1.45346821e-06,-3.39815933e-07,2.01403015e-06])"
   ]
  },
  {
   "cell_type": "code",
   "execution_count": 50,
   "id": "7c830c26-d1f3-4787-8769-f1a69f974387",
   "metadata": {},
   "outputs": [],
   "source": [
    "def brown_and_dennis(x):\n",
    "    n = len(x)\n",
    "    m=20\n",
    "    ans=np.zeros(m)\n",
    "    t= np.linspace(1,20,m)/m\n",
    "    ans =(x[0]+t*x[1]-np.exp(t))**2+(x[2]+x[3]*np.sin(t)-np.sin(t))**2\n",
    "\n",
    "\n",
    "    return np.linalg.norm(ans)**2"
   ]
  },
  {
   "cell_type": "markdown",
   "id": "5d46cfe4-2e9d-4556-a57e-bb2225234227",
   "metadata": {},
   "source": [
    "$$f(x) = \\sum_{i=0}^{n-2} \\left( (x_i^2)^{x_{i+1}^2 + 1} + (x_{i+1}^2)^{x_i^2 + 1} \\right) + (x - t)^T \\cdot W \\cdot (x - t)$$"
   ]
  },
  {
   "cell_type": "markdown",
   "id": "3f7905c0-15be-4a13-8b1a-40b346c92af3",
   "metadata": {},
   "source": [
    "$$\\frac{\\partial f}{\\partial x_i} = 2 \\cdot x_i \\cdot (x_{i+1}^2)^{x_i^2} \\cdot \\ln(x_i^2) \\cdot (x_i^2 + 1) + 2 \\cdot x_{i+1} \\cdot (x_i^2)^{x_{i+1}^2} \\cdot \\ln(x_{i+1}^2) \\cdot (x_{i+1}^2 + 1) + 2 \\cdot \\sum_{j=1}^{n} W_{ij} \\cdot (x_j - t_j)$$"
   ]
  },
  {
   "cell_type": "code",
   "execution_count": 51,
   "id": "cd704976-4372-4771-94b5-114c3bf713ee",
   "metadata": {},
   "outputs": [],
   "source": [
    "def gradient_brown_and_dennis(x, t, W):\n",
    "    n = len(x)\n",
    "    gradient = np.zeros_like(x, dtype=float)\n",
    "\n",
    "    for i in range(n-1):\n",
    "        term1 = 2 * x[i] * (x[i+1]**2)**(x[i]**2) * np.log(x[i]**2) * (x[i]**2 + 1)\n",
    "        term2 = 2 * x[i+1] * (x[i]**2)**(x[i+1]**2) * np.log(x[i+1]**2) * (x[i+1]**2 + 1)\n",
    "        gradient[i] += term1 + term2\n",
    "\n",
    "    quadratic_gradient = 2 * np.dot(W, (x - t))\n",
    "    gradient += quadratic_gradient\n",
    "\n",
    "    return gradient\n"
   ]
  },
  {
   "cell_type": "code",
   "execution_count": null,
   "id": "668a53cb-572d-48f9-8262-0d6a04d63b80",
   "metadata": {},
   "outputs": [],
   "source": []
  },
  {
   "cell_type": "code",
   "execution_count": 52,
   "id": "d058b3e9-6475-4be8-a2a3-ed1363e12829",
   "metadata": {},
   "outputs": [
    {
     "name": "stdout",
     "output_type": "stream",
     "text": [
      "The value of the Brown and Dennis Function is: 10016239.906752376\n",
      "Optimal solution: [ 8.57717122e-01  1.74634067e+00 -1.11331063e-06  1.00000904e+00]\n",
      "Optimal function value: 0.0006173214141067991\n",
      "Iterations: 96\n"
     ]
    }
   ],
   "source": [
    "# Example usage\n",
    "dimension = 4\n",
    "variables = np.array([25, 5, -5,-1])\n",
    "\n",
    "result = brown_and_dennis(variables)\n",
    "print(f\"The value of the Brown and Dennis Function is: {result}\")\n",
    "# Initial guess\n",
    "initial_guess = variables\n",
    "iterations=[]\n",
    "# Minimize the Brown and Dennis Function\n",
    "result = minimize(brown_and_dennis, initial_guess, method='BFGS',callback=callback)\n",
    "\n",
    "# Print the result\n",
    "print(\"Optimal solution:\", result.x)\n",
    "print(\"Optimal function value:\", result.fun)\n",
    "print(\"Iterations:\",len(iterations))"
   ]
  },
  {
   "cell_type": "markdown",
   "id": "4c53344e-2d2b-462d-b9aa-c8e45c6d27e1",
   "metadata": {},
   "source": [
    "$$H_{ij} = 2 \\cdot (x_i^2)^{x_j^2} \\cdot \\ln(x_i^2) \\cdot (x_i^2 + 1) \\cdot (x_j^2 + 1) + 2 \\cdot \\delta_{ij} \\cdot \\sum_{k=1}^{n} W_{ik}$$"
   ]
  },
  {
   "cell_type": "code",
   "execution_count": 53,
   "id": "d643eb2e-f585-4d1d-9873-b08f3520275a",
   "metadata": {},
   "outputs": [],
   "source": [
    "def hessian_brown_and_dennis(x, t, W):\n",
    "    n = len(x)\n",
    "    hessian = np.zeros((n, n), dtype=float)\n",
    "\n",
    "    for i in range(n):\n",
    "        for j in range(n):\n",
    "            term = 2 * (x[i]**2)**(x[j]**2) * np.log(x[i]**2) * (x[i]**2 + 1) * (x[j]**2 + 1)\n",
    "            hessian[i, j] = term\n",
    "\n",
    "    for i in range(n):\n",
    "        hessian[i, i] += 2 * np.sum(W[i, :])\n",
    "    return hessian\n"
   ]
  },
  {
   "cell_type": "code",
   "execution_count": null,
   "id": "88ca3505-8825-4895-8554-c11e4f8ee4ef",
   "metadata": {},
   "outputs": [],
   "source": []
  },
  {
   "cell_type": "code",
   "execution_count": 54,
   "id": "47e50b90-8785-4f63-a0a4-c54992e7783a",
   "metadata": {},
   "outputs": [],
   "source": [
    "def gulf_function(x, m=4):\n",
    "    ans=np.zeros(m)\n",
    "    t=np.array([(i+1) for i in range(m)])/100\n",
    "    y=25+(-50*np.log(t))**2/3\n",
    "    ans=np.exp((-abs(y*100*t*m*x[1])**x[2])/x[0])-t\n",
    "    return np.linalg.norm(ans)**2"
   ]
  },
  {
   "cell_type": "markdown",
   "id": "1c2c676d-dce4-4d19-8bae-c5f9de0c24b9",
   "metadata": {},
   "source": [
    "$$f(\\mathbf{x}) = 0.5 \\left( \\frac{\\exp\\left(-\\frac{(x_1-25)^2}{4^2}\\right)}{2.5} + \\exp\\left(-\\frac{(x_1-16)^2}{2^2}\\right) \\right) + 0.5 \\left( \\frac{\\exp\\left(-\\frac{(x_2-15)^2}{4^2}\\right)}{2.5} + \\exp\\left(-\\frac{(x_2-20)^2}{2^2}\\right) \\right) + 0.5 \\left( \\frac{\\exp\\left(-\\frac{(x_3-45)^2}{4^2}\\right)}{2.5} + \\exp\\left(-\\frac{(x_3-36)^2}{2^2}\\right) \\right) + 0.5 \\left( \\frac{\\exp\\left(-\\frac{(x_4-50)^2}{4^2}\\right)}{2.5} + \\exp\\left(-\\frac{(x_4-25)^2}{2^2}\\right) \\right)$$"
   ]
  },
  {
   "cell_type": "markdown",
   "id": "86e6cfb0-1fec-455c-b57f-88d5fb7c568e",
   "metadata": {},
   "source": [
    " $$\\frac{\\partial f}{\\partial x_1} = \\frac{\\exp\\left(-\\frac{(x_1-p_i)^2}{4^2}\\right)}{4} \\cdot \\left( \\frac{(x_1-p_i)^2}{2.5} + (x_1-q_i)^2 \\right)$$"
   ]
  },
  {
   "cell_type": "code",
   "execution_count": 55,
   "id": "b7858a76-9527-4319-8c6c-e83c77c0758b",
   "metadata": {},
   "outputs": [],
   "source": [
    "def gradient_gulf_function(x):\n",
    "    gradient = np.zeros_like(x, dtype=float)\n",
    "\n",
    "    gradient[0] = 0.5 * np.exp(-((x[0]-25)/4)**2) / 4 * ((x[0]-25)**2 / 2.5 + (x[0]-16)**2)\n",
    "    gradient[1] = 0.5 * np.exp(-((x[1]-15)/4)**2) / 4 * ((x[1]-15)**2 / 2.5 + (x[1]-20)**2)\n",
    "    gradient[2] = 0.5 * np.exp(-((x[2]-45)/4)**2) / 4 * ((x[2]-45)**2 / 2.5 + (x[2]-36)**2)\n",
    "    gradient[3] = 0.5 * np.exp(-((x[3]-50)/4)**2) / 4 * ((x[3]-50)**2 / 2.5 + (x[3]-25)**2)\n",
    "\n",
    "    return gradient"
   ]
  },
  {
   "cell_type": "markdown",
   "id": "b293de9a-619c-4a19-a0da-eae16b0b480a",
   "metadata": {},
   "source": [
    "$$\\frac{\\partial^2 f}{\\partial x_i \\partial x_j} = \\frac{\\exp\\left(-\\frac{(x_i-a_i)^2}{c_i^2}\\right)}{4c_i^2} \\left[ \\delta_{ij} \\left( \\frac{(x_i-a_i)^2}{2.5} + (x_i-a_{i+1})^2 \\right) - \\frac{(x_i-a_i)(x_j-a_j)}{2.5} \\right]$$"
   ]
  },
  {
   "cell_type": "code",
   "execution_count": 56,
   "id": "106b5b17-4be8-4752-9b3a-7afaf140778a",
   "metadata": {},
   "outputs": [],
   "source": [
    "def hessian_gulf_function(x):\n",
    "    hessian = np.zeros((4, 4), dtype=float)\n",
    "\n",
    "    centers = [25, 15, 45, 50]\n",
    "    q_i =[16,20,36,25]\n",
    "    params = [4, 4, 4, 4]\n",
    "\n",
    "    for i in range(4):\n",
    "        for j in range(4):\n",
    "            term = (\n",
    "                np.exp(-((x[i]-centers[i])/params[i])**2) /\n",
    "                (4 * params[i]**2) *\n",
    "                (\n",
    "                    np.kron(np.eye(4)[i, j], (x[i]-centers[i])**2 / 2.5 + (x[i]-q_i[i])**2) -\n",
    "                    (x[i]-centers[i]) * (x[j]-centers[j]) / 2.5\n",
    "                )\n",
    "            )\n",
    "            hessian[i, j] = term\n",
    "\n",
    "    return hessian"
   ]
  },
  {
   "cell_type": "code",
   "execution_count": 57,
   "id": "ec4accb0-e01f-4927-bf6d-efd5464bb226",
   "metadata": {},
   "outputs": [
    {
     "name": "stdout",
     "output_type": "stream",
     "text": [
      "Optimal solution: [ 0.48491083 -0.10046213  0.06349683]\n",
      "Optimal function value: 0.0006379152333885442\n",
      "iterations: 10\n"
     ]
    }
   ],
   "source": [
    "# Initial guess\n",
    "initial_guess = np.array([5,2.5,0.15])\n",
    "iterations=[]\n",
    "# Minimize the Gulf Function\n",
    "result = minimize(gulf_function, initial_guess, method='Powell',callback=callback)\n",
    "\n",
    "# Print the result\n",
    "print(\"Optimal solution:\", result.x)\n",
    "print(\"Optimal function value:\", result.fun)\n",
    "print(\"iterations:\",len(iterations))"
   ]
  },
  {
   "cell_type": "code",
   "execution_count": 58,
   "id": "4fda7a48-b944-452b-bfc5-a4fd4baf45bd",
   "metadata": {},
   "outputs": [],
   "source": [
    "def trigonometric_function(x):\n",
    "    n=len(x)\n",
    "    ans=np.zeros(n)\n",
    "    for i in range(n):\n",
    "        ans[i]=n-np.sum(np.cos(x))+(i+1)*(1-np.cos(x[i])) -np.sin(x[i])\n",
    "    return np.linalg.norm(ans)**2"
   ]
  },
  {
   "cell_type": "markdown",
   "id": "ab74b479-f954-46d0-b500-fb9b91ff8c77",
   "metadata": {},
   "source": [
    "$$f\\left(x\\right)=\\sum _i\\:cos\\left(x_i\\right)$$"
   ]
  },
  {
   "cell_type": "markdown",
   "id": "1d0a45fd-2b88-4a47-bdf6-497f6d56e98c",
   "metadata": {},
   "source": [
    "$$\\frac{\\partial f}{\\partial x_i}\\:=-sin\\left(x_i\\right)$$"
   ]
  },
  {
   "cell_type": "code",
   "execution_count": 59,
   "id": "db868c8c-15e9-4d4e-aba3-3f07c2839abc",
   "metadata": {},
   "outputs": [],
   "source": [
    "def gradient_trigonometric(x):\n",
    "    return -np.sin(x)"
   ]
  },
  {
   "cell_type": "markdown",
   "id": "cbe591b7-0133-4125-9066-fe27e607bf8e",
   "metadata": {},
   "source": [
    "$$\\frac{\\partial ^2f}{\\partial x_ix_j}\\:=-cos\\left(x_i\\right) if i=j$$"
   ]
  },
  {
   "cell_type": "markdown",
   "id": "a7f62a9c-bab1-485e-9e15-681d4c833b7c",
   "metadata": {},
   "source": [
    "$$\\frac{\\partial ^2f}{\\partial x_ix_j}\\:=0\\:else$$"
   ]
  },
  {
   "cell_type": "code",
   "execution_count": 60,
   "id": "f476a4a0-340f-4948-89cf-818d0e6ac407",
   "metadata": {},
   "outputs": [],
   "source": [
    "def hessien_trigonometric(x):\n",
    "    return -np.diag(np.sin(x))"
   ]
  },
  {
   "cell_type": "code",
   "execution_count": 61,
   "id": "341074de-b48a-4f87-8913-0aedd4c54875",
   "metadata": {},
   "outputs": [
    {
     "name": "stdout",
     "output_type": "stream",
     "text": [
      "The value of the Trigonometric Function is: 0.0016165655783864058\n",
      "Optimal solution: [0.01251834 0.01257993 0.01264239 0.01270579 0.01277008 0.01283552\n",
      " 0.01290166 0.01296882 0.01303694 0.013106   0.13091753 0.01324647\n",
      " 0.01331832 0.01339097 0.01346427 0.01353838 0.01361314 0.01368852\n",
      " 0.0137644  0.0138406  0.01391711 0.0139937  0.01407035 0.01414638\n",
      " 0.01422194 0.0142966  0.0143701  0.01444191 0.01451183 0.0145791\n",
      " 0.01464336 0.01470398 0.01476035 0.01481178 0.0148576  0.01489709\n",
      " 0.01492956 0.01495432 0.01497081 0.01497829 0.01497658 0.01496519\n",
      " 0.01494407 0.01491295 0.01487208 0.01482166 0.01476205 0.01469371\n",
      " 0.01461719 0.01453758]\n",
      "Optimal function value: 0.0007811001559582129\n",
      "Iterations: 6\n"
     ]
    }
   ],
   "source": [
    "variables=np.ones(50)/50\n",
    "result = trigonometric_function(variables)\n",
    "print(f\"The value of the Trigonometric Function is: {result}\")\n",
    "iterations=[]\n",
    "result = minimize(trigonometric_function, variables, method='Powell',callback=callback)\n",
    "\n",
    "print(\"Optimal solution:\", result.x)\n",
    "print(\"Optimal function value:\", result.fun)\n",
    "print(\"Iterations:\",len(iterations))"
   ]
  },
  {
   "cell_type": "code",
   "execution_count": 62,
   "id": "2403e9ec-c769-4fd5-b671-6334b53744f4",
   "metadata": {},
   "outputs": [
    {
     "data": {
      "text/plain": [
       "array([-0.01251802, -0.0125796 , -0.01264205, -0.01270545, -0.01276974,\n",
       "       -0.01283516, -0.0129013 , -0.01296846, -0.01303657, -0.01310562,\n",
       "       -0.13054388, -0.01324608, -0.01331792, -0.01339057, -0.01346386,\n",
       "       -0.01353797, -0.01361272, -0.01368809, -0.01376397, -0.01384016,\n",
       "       -0.01391666, -0.01399324, -0.01406988, -0.0141459 , -0.01422146,\n",
       "       -0.01429611, -0.01436961, -0.01444141, -0.01451132, -0.01457858,\n",
       "       -0.01464283, -0.01470345, -0.01475981, -0.01481124, -0.01485706,\n",
       "       -0.01489654, -0.014929  , -0.01495376, -0.01497025, -0.01497773,\n",
       "       -0.01497602, -0.01496463, -0.01494351, -0.0149124 , -0.01487154,\n",
       "       -0.01482112, -0.01476151, -0.01469318, -0.01461667, -0.01453706])"
      ]
     },
     "execution_count": 62,
     "metadata": {},
     "output_type": "execute_result"
    }
   ],
   "source": [
    "gradient_trigonometric(result.x)"
   ]
  },
  {
   "cell_type": "code",
   "execution_count": 63,
   "id": "ecbbe1ba-78a8-4656-9b47-2ee4b50ac712",
   "metadata": {},
   "outputs": [
    {
     "data": {
      "text/plain": [
       "array([[-0.01251802, -0.        , -0.        , ..., -0.        ,\n",
       "        -0.        , -0.        ],\n",
       "       [-0.        , -0.0125796 , -0.        , ..., -0.        ,\n",
       "        -0.        , -0.        ],\n",
       "       [-0.        , -0.        , -0.01264205, ..., -0.        ,\n",
       "        -0.        , -0.        ],\n",
       "       ...,\n",
       "       [-0.        , -0.        , -0.        , ..., -0.01469318,\n",
       "        -0.        , -0.        ],\n",
       "       [-0.        , -0.        , -0.        , ..., -0.        ,\n",
       "        -0.01461667, -0.        ],\n",
       "       [-0.        , -0.        , -0.        , ..., -0.        ,\n",
       "        -0.        , -0.01453706]])"
      ]
     },
     "execution_count": 63,
     "metadata": {},
     "output_type": "execute_result"
    }
   ],
   "source": [
    "hessien_trigonometric(result.x)"
   ]
  },
  {
   "cell_type": "code",
   "execution_count": 64,
   "id": "643f6ca8-f40f-4e4a-9007-c043c04b557c",
   "metadata": {},
   "outputs": [],
   "source": [
    "def extended_rosenbrock_function(x):\n",
    "    n = len(x)\n",
    "    result = 0\n",
    "\n",
    "    for i in range(n-1):\n",
    "        term1 = 100 * (x[i+1] - x[i]**2)**2\n",
    "        term2 = (1 - x[i])**2\n",
    "        result += term1 + term2\n",
    "\n",
    "    return result"
   ]
  },
  {
   "cell_type": "markdown",
   "id": "768a7980-66ba-4bfe-805c-9b43f573d323",
   "metadata": {},
   "source": [
    "$$f(x) = Σ [100 * (x[i+1] - x[i]^2)^2 + (1 - x[i])^2]$$"
   ]
  },
  {
   "cell_type": "markdown",
   "id": "529be09d-939a-43e5-a519-aa87a1b9444a",
   "metadata": {},
   "source": [
    "$$ \\frac{\\partial f}{\\partial x_i} = -400 \\cdot x_i \\cdot (x_{i+1} - x_i^2) - 2 \\cdot (1 - x_i) + 200 \\cdot (x_{i+1} - x_i^2) $$"
   ]
  },
  {
   "cell_type": "code",
   "execution_count": 65,
   "id": "51113324-73f0-48c0-b830-1d6e26d248db",
   "metadata": {},
   "outputs": [],
   "source": [
    "import numpy as np\n",
    "\n",
    "def extended_rosenbrock_gradient(x):\n",
    "    n = len(x)\n",
    "    gradient = np.zeros(n)\n",
    "\n",
    "    for i in range(n-1):\n",
    "        gradient[i] = -400 * x[i] * (x[i+1] - x[i]**2) - 2 * (1 - x[i]) + 200 * (x[i+1] - x[i]**2)\n",
    "        gradient[i+1] = 200 * ( - x[i]**2)\n",
    "\n",
    "    return gradient\n"
   ]
  },
  {
   "cell_type": "markdown",
   "id": "beb50b98-a162-4b27-b574-7b21ae34edbf",
   "metadata": {},
   "source": [
    "$$\\mathbf{H}_{ii} = 1200 \\cdot x_i^2 - 400 \\cdot x_{i+1} + 2$$"
   ]
  },
  {
   "cell_type": "markdown",
   "id": "15c6f624-145a-46f8-8d64-22ac5fa06d9f",
   "metadata": {},
   "source": [
    "$$\\mathbf{H}_{i,i+1} = \\mathbf{H}_{i+1,i} = -400 \\cdot x_i$$"
   ]
  },
  {
   "cell_type": "markdown",
   "id": "f0a89a77-f6c1-4631-9e6b-e3868212a48a",
   "metadata": {},
   "source": [
    "$$\\mathbf{H}_{ij} = 0 \\text{ for } i \\neq j, \\text{ where } i,j \\in [1, n-1]\n",
    "$$"
   ]
  },
  {
   "cell_type": "code",
   "execution_count": 66,
   "id": "b55ba244-56dc-4e6b-894e-cf98dd5050ba",
   "metadata": {},
   "outputs": [],
   "source": [
    "def extended_rosenbrock_hessian(x):\n",
    "    n = len(x)\n",
    "    hessian = np.zeros((n, n))\n",
    "\n",
    "    for i in range(n-1):\n",
    "        hessian[i, i] = 1200 * x[i]**2 - 400 * x[i+1] + 2\n",
    "        hessian[i, i+1] = hessian[i+1, i] = -400 * x[i]\n",
    "\n",
    "    return hessian"
   ]
  },
  {
   "cell_type": "code",
   "execution_count": 67,
   "id": "49b84293-eddf-408a-a7e5-a89f7e1ae774",
   "metadata": {},
   "outputs": [
    {
     "name": "stdout",
     "output_type": "stream",
     "text": [
      "The value of the Extended Rosenbrock Function is: 0\n",
      "Optimal solution: [1. 1. 1.]\n",
      "Optimal function value: 0.0\n",
      "iterations: 1\n"
     ]
    }
   ],
   "source": [
    "dimension = 3\n",
    "variables = np.array([1, 1, 1])\n",
    "\n",
    "result = extended_rosenbrock_function(variables)\n",
    "print(f\"The value of the Extended Rosenbrock Function is: {result}\")\n",
    "iterations=[]\n",
    "result = minimize(extended_rosenbrock_function, variables, method='Powell',callback=callback)\n",
    "\n",
    "print(\"Optimal solution:\", result.x)\n",
    "print(\"Optimal function value:\", result.fun)\n",
    "print(\"iterations:\",len(iterations))"
   ]
  },
  {
   "cell_type": "code",
   "execution_count": 68,
   "id": "6dd38f1b-8cdd-4174-9478-0ba82911421c",
   "metadata": {},
   "outputs": [
    {
     "data": {
      "text/plain": [
       "array([   0.,    0., -200.])"
      ]
     },
     "execution_count": 68,
     "metadata": {},
     "output_type": "execute_result"
    }
   ],
   "source": [
    "extended_rosenbrock_gradient(result.x)"
   ]
  },
  {
   "cell_type": "code",
   "execution_count": 69,
   "id": "76f93cc7-7184-4615-b3f4-65cbab9d70df",
   "metadata": {},
   "outputs": [
    {
     "data": {
      "text/plain": [
       "array([[ 802., -400.,    0.],\n",
       "       [-400.,  802., -400.],\n",
       "       [   0., -400.,    0.]])"
      ]
     },
     "execution_count": 69,
     "metadata": {},
     "output_type": "execute_result"
    }
   ],
   "source": [
    "extended_rosenbrock_hessian(result.x)"
   ]
  },
  {
   "cell_type": "markdown",
   "id": "9ef405bb-82a0-45ba-abcf-54123b822dc9",
   "metadata": {},
   "source": [
    "$$f(\\mathbf{x}) = \\sum_{i=0}^{n/4-1} \\left[ (x_{4i} + 10x_{4i+1})^2 + 5(x_{4i+2} - x_{4i+3})^2 + (x_{4i+1} - 2x_{4i+2})^4 + 10(x_{4i} - x_{4i+3})^4 \\right]$$"
   ]
  },
  {
   "cell_type": "code",
   "execution_count": 70,
   "id": "a37ce2d2-78a2-4059-90ec-54ee776fdfe2",
   "metadata": {},
   "outputs": [],
   "source": [
    "def extended_powell_singular_function(x):\n",
    "    n = len(x)\n",
    "    result = 0\n",
    "\n",
    "    for i in range(0, n//4):\n",
    "        term1 = (x[4*i-3] + 10*x[4*i-2])**2\n",
    "        term2 = 5 * (x[4*i-1] - x[4*i])**2\n",
    "        term3 = (x[4*i-2] - 2*x[4*i-1])**4\n",
    "        term4 = 10 * (x[4*i-3] - x[4*i])**4\n",
    "        result += term1 + term2 + term3 + term4\n",
    "\n",
    "    return result"
   ]
  },
  {
   "cell_type": "markdown",
   "id": "0a187a6e-11e4-4c78-9537-4cb7ef1bf4bd",
   "metadata": {},
   "source": [
    "$$\n",
    "\\frac{\\partial f}{\\partial x_{4i}} = 2 \\left[(x_{4i} + 10x_{4i+1}) + 40(x_{4i} - x_{4i+3})^3\\right]\n",
    "$$\n",
    "\n",
    "$$\n",
    "\\frac{\\partial f}{\\partial x_{4i+1}} = 20 \\left[(x_{4i} + 10x_{4i+1}) + 4(x_{4i+1} - 2x_{4i+2})^3\\right]\n",
    "$$\n",
    "\n",
    "$$\n",
    "\\frac{\\partial f}{\\partial x_{4i+2}} = 10 \\left[5(x_{4i+2} - x_{4i+3}) - 8(x_{4i+1} - 2x_{4i+2})^3\\right]\n",
    "$$\n",
    "\n",
    "$$\n",
    "\\frac{\\partial f}{\\partial x_{4i+3}} = -10 \\left[5(x_{4i+2} - x_{4i+3}) + 40(x_{4i} - x_{4i+3})^3\\right]\n",
    "$$"
   ]
  },
  {
   "cell_type": "code",
   "execution_count": 71,
   "id": "8507e19a-55dc-4d01-aa48-f1c2433868cb",
   "metadata": {},
   "outputs": [],
   "source": [
    "def extended_powell_singular_gradient(x):\n",
    "    n = len(x)\n",
    "    gradient = np.zeros(n)\n",
    "\n",
    "    for i in range(n // 4):\n",
    "        gradient[4*i] = 2 * (x[4*i] + 10*x[4*i+1]) + 40 * (x[4*i] - x[4*i+3])**3\n",
    "        gradient[4*i+1] = 20 * (x[4*i] + 10*x[4*i+1]) + 4 * (x[4*i+1] - 2*x[4*i+2])**3\n",
    "        gradient[4*i+2] = 10 * (5 * (x[4*i+2] - x[4*i+3]) - 8 * (x[4*i+1] - 2*x[4*i+2])**3)\n",
    "        gradient[4*i+3] = -10 * (5 * (x[4*i+2] - x[4*i+3]) + 40 * (x[4*i] - x[4*i+3])**3)\n",
    "\n",
    "    return gradient"
   ]
  },
  {
   "cell_type": "code",
   "execution_count": 72,
   "id": "e4e63d4f-f770-474b-b382-3036807c41ea",
   "metadata": {},
   "outputs": [
    {
     "name": "stdout",
     "output_type": "stream",
     "text": [
      "Optimal solution: [-0.00310417  0.00156839 -0.00015684 -0.0031042 ]\n",
      "Optimal function value: 6.1078478163066054e-09\n"
     ]
    }
   ],
   "source": [
    "dimension = 4\n",
    "# Initial guess\n",
    "initial_guess = np.ones(dimension)\n",
    "\n",
    "# Minimize the Extended Powell Singular Function\n",
    "result = minimize(extended_powell_singular_function, initial_guess, method='BFGS')\n",
    "\n",
    "# Print the result\n",
    "print(\"Optimal solution:\", result.x)\n",
    "print(\"Optimal function value:\", result.fun)\n",
    "\n"
   ]
  },
  {
   "cell_type": "code",
   "execution_count": 73,
   "id": "b9a56a8d-b438-441f-9a46-87f57fc14cdf",
   "metadata": {},
   "outputs": [
    {
     "data": {
      "text/plain": [
       "array([ 0.02515948,  0.25159484,  0.14736713, -0.14736767])"
      ]
     },
     "execution_count": 73,
     "metadata": {},
     "output_type": "execute_result"
    }
   ],
   "source": [
    "extended_powell_singular_gradient(result.x)"
   ]
  },
  {
   "cell_type": "markdown",
   "id": "7cf27560-66ba-4d25-8cc0-ec83fedd713e",
   "metadata": {},
   "source": [
    "$$\n",
    "\\frac{\\partial^2 f}{\\partial x_{4i}^2} = 2 + 120 \\cdot (x_{4i} - x_{4i+3})^2\n",
    "$$\n",
    "\n",
    "$$\n",
    "\\frac{\\partial^2 f}{\\partial x_{4i} \\partial x_{4i+1}} = 20\n",
    "$$\n",
    "\n",
    "$$\n",
    "\\frac{\\partial^2 f}{\\partial x_{4i} \\partial x_{4i+2}} = 0\n",
    "$$\n",
    "\n",
    "$$\n",
    "\\frac{\\partial^2 f}{\\partial x_{4i} \\partial x_{4i+3}} = -120 \\cdot (x_{4i} - x_{4i+3})^2\n",
    "$$\n",
    "\n",
    "$$\n",
    "\\frac{\\partial^2 f}{\\partial x_{4i+1}^2} = 200 + 12 \\cdot (x_{4i+1} - 2x_{4i+2})^2\n",
    "$$\n",
    "\n",
    "$$\n",
    "\\frac{\\partial^2 f}{\\partial x_{4i+1} \\partial x_{4i+2}} = -24 \\cdot (x_{4i+1} - 2x_{4i+2})^2\n",
    "$$\n",
    "\n",
    "$$\n",
    "\\frac{\\partial^2 f}{\\partial x_{4i+1} \\partial x_{4i+3}} = 0\n",
    "$$\n",
    "\n",
    "$$\n",
    "\\frac{\\partial^2 f}{\\partial x_{4i+2}^2} = 10 - 192 \\cdot (x_{4i+1} - 2x_{4i+2})^2\n",
    "$$\n",
    "\n",
    "$$\n",
    "\\frac{\\partial^2 f}{\\partial x_{4i+2} \\partial x_{4i+3}} = -20\n",
    "$$\n",
    "\n",
    "$$\n",
    "\\frac{\\partial^2 f}{\\partial x_{4i+3}^2} = 120 + 120 \\cdot (x_{4i} - x_{4i+3})^2\n",
    "$$\n"
   ]
  },
  {
   "cell_type": "code",
   "execution_count": 74,
   "id": "dca9a3a6-63a6-445b-9384-9c00b5375228",
   "metadata": {},
   "outputs": [],
   "source": [
    "def extended_powell_singular_hessian(x):\n",
    "    n = len(x)\n",
    "    hessian = np.zeros((n, n))\n",
    "\n",
    "    for i in range(n // 4):\n",
    "        hessian[4*i, 4*i] = 2 + 120 * (x[4*i] - x[4*i+3])**2\n",
    "        hessian[4*i, 4*i+1] = 20\n",
    "        hessian[4*i, 4*i+3] = -120 * (x[4*i] - x[4*i+3])**2\n",
    "\n",
    "        hessian[4*i+1, 4*i] = 20\n",
    "        hessian[4*i+1, 4*i+1] = 200 + 12 * (x[4*i+1] - 2*x[4*i+2])**2\n",
    "\n",
    "        hessian[4*i+1, 4*i+2] = -24 * (x[4*i+1] - 2*x[4*i+2])**2\n",
    "\n",
    "        hessian[4*i+2, 4*i+1] = -24 * (x[4*i+1] - 2*x[4*i+2])**2\n",
    "        hessian[4*i+2, 4*i+2] = 10 - 192 * (x[4*i+1] - 2*x[4*i+2])**2\n",
    "        hessian[4*i+2, 4*i+3] = -20\n",
    "\n",
    "        hessian[4*i+3, 4*i] = -120 * (x[4*i] - x[4*i+3])**2\n",
    "        hessian[4*i+3, 4*i+2] = -20\n",
    "        hessian[4*i+3, 4*i+3] = 120 + 120 * (x[4*i] - x[4*i+3])**2\n",
    "\n",
    "    return hessian"
   ]
  },
  {
   "cell_type": "code",
   "execution_count": 75,
   "id": "521955ad-ffcd-43c0-a7f5-0373fc9a8421",
   "metadata": {},
   "outputs": [
    {
     "data": {
      "text/plain": [
       "array([[ 2.00000000e+00,  2.00000000e+01,  0.00000000e+00,\n",
       "        -9.16433268e-14],\n",
       "       [ 2.00000000e+01,  2.00000043e+02, -8.50133944e-05,\n",
       "         0.00000000e+00],\n",
       "       [ 0.00000000e+00, -8.50133944e-05,  9.99931989e+00,\n",
       "        -2.00000000e+01],\n",
       "       [-9.16433268e-14,  0.00000000e+00, -2.00000000e+01,\n",
       "         1.20000000e+02]])"
      ]
     },
     "execution_count": 75,
     "metadata": {},
     "output_type": "execute_result"
    }
   ],
   "source": [
    "extended_powell_singular_hessian(result.x)"
   ]
  },
  {
   "cell_type": "code",
   "execution_count": 76,
   "id": "8d575771-74c1-499e-9a5b-a17408246eb3",
   "metadata": {},
   "outputs": [],
   "source": [
    "def beale_function(X):\n",
    "    x,y=X\n",
    "    term1 = (1.5 - x + x*y)**2\n",
    "    term2 = (2.25 - x + x*y**2)**2\n",
    "    term3 = (2.625 - x + x*y**3)**2\n",
    "    return term1 + term2 + term3"
   ]
  },
  {
   "cell_type": "markdown",
   "id": "83194991-b5ed-4181-992a-9ea3aa041227",
   "metadata": {},
   "source": [
    "$$f(x, y) = (1.5 - x + xy)^2 + (2.25 - x + xy^2)^2 + (2.625 - x + xy^3)^2$$"
   ]
  },
  {
   "cell_type": "markdown",
   "id": "0a1840cc-fd31-479c-a7bc-f140f9d130f0",
   "metadata": {},
   "source": [
    "\n",
    "$$ \\frac{\\partial f}{\\partial x} = 2 \\left[ (1.5 - x + xy)(-1 + y) + (2.25 - x + xy^2)(-1 + y^2) + (2.625 - x + xy^3)(-1 + y^3) \\right] $$\n",
    "\n",
    "$$ \\frac{\\partial f}{\\partial y} = 2 \\left[ (1.5 - x + xy)x + 2(2.25 - x + xy^2)xy + 3(2.625 - x + xy^3)xy^2 \\right] $$\n"
   ]
  },
  {
   "cell_type": "code",
   "execution_count": 77,
   "id": "477d78ae-f18e-42f4-b0a2-ae4a5a85ac50",
   "metadata": {},
   "outputs": [],
   "source": [
    "def beale_gradient(X):\n",
    "    x, y = X\n",
    "    \n",
    "    df_dx = 2 * ((1.5 - x + x * y) * (-1 + y) +\n",
    "                 (2.25 - x + x * y**2) * (-1 + y**2) +\n",
    "                 (2.625 - x + x * y**3) * (-1 + y**3))\n",
    "    \n",
    "    df_dy = 2 * ((1.5 - x + x * y) * x +\n",
    "                 2 * (2.25 - x + x * y**2) * x * y +\n",
    "                 3 * (2.625 - x + x * y**3) * x * y**2)\n",
    "    \n",
    "    return (df_dx, df_dy)\n"
   ]
  },
  {
   "cell_type": "code",
   "execution_count": 78,
   "id": "c8bb5b9c-fb52-4e87-ba52-52456084d7cf",
   "metadata": {},
   "outputs": [
    {
     "name": "stdout",
     "output_type": "stream",
     "text": [
      "Optimal solution: [2.99999967 0.49999991]\n",
      "Optimal function value: 1.9911045053339106e-14\n"
     ]
    }
   ],
   "source": [
    "# Initial guess\n",
    "initial_guess = np.array([1.0, 1.0])\n",
    "\n",
    "# Minimize the Beale function\n",
    "result = minimize(beale_function, initial_guess, method='BFGS')\n",
    "\n",
    "# Print the result\n",
    "print(\"Optimal solution:\", result.x)\n",
    "print(\"Optimal function value:\", result.fun)"
   ]
  },
  {
   "cell_type": "code",
   "execution_count": 79,
   "id": "24d61e5e-a9e2-442a-af6f-58fdf5459582",
   "metadata": {},
   "outputs": [
    {
     "data": {
      "text/plain": [
       "(1.1517816560634913e-08, -4.7313066920637025e-07)"
      ]
     },
     "execution_count": 79,
     "metadata": {},
     "output_type": "execute_result"
    }
   ],
   "source": [
    "beale_gradient(result.x)"
   ]
  },
  {
   "cell_type": "markdown",
   "id": "d4b630b6-8116-4625-8bea-083a0dd043e6",
   "metadata": {},
   "source": [
    "\n",
    "\n",
    "$$\n",
    " \\frac{\\partial^2 f}{\\partial x^2} = 2 \\left[ (1 - y) + 2(1 - y^2) + 3(1 - y^3) \\right]\n",
    "$$\n",
    "\n",
    "$$\n",
    " \\frac{\\partial^2 f}{\\partial y^2} = 2 \\left[ x^2 + 2x^2 + 6x^2y + 6x^2y^2 \\right] \n",
    " $$\n",
    " $$\n",
    " \\frac{\\partial^2 f}{\\partial x \\partial y} = \\frac{\\partial^2 f}{\\partial y \\partial x} = 2 \\left[ -1 + 2xy + 3xy^2 \\right] $$"
   ]
  },
  {
   "cell_type": "code",
   "execution_count": 80,
   "id": "0a88176e-cdf1-4a90-9e44-c468083f669d",
   "metadata": {},
   "outputs": [],
   "source": [
    "def hessian_beale(X):\n",
    "    x,y=X\n",
    "    f_xx = 2 * ((1 - y) + 2 * (1 - y**2) + 3 * (1 - y**3))\n",
    "    f_yy = 2 * (x**2 + 2*x**2 + 6*x**2*y + 6*x**2*y**2)\n",
    "    f_xy = f_yx = 2 * (-1 + 2*x*y + 3*x*y**2)\n",
    "\n",
    "    return np.array([[f_xx, f_xy], [f_yx, f_yy]])"
   ]
  },
  {
   "cell_type": "code",
   "execution_count": 81,
   "id": "37c888b2-45bb-4cbd-a323-e8e1548b9498",
   "metadata": {},
   "outputs": [
    {
     "data": {
      "text/plain": [
       "array([[  9.25000097,   8.49999608],\n",
       "       [  8.49999608, 134.99995034]])"
      ]
     },
     "execution_count": 81,
     "metadata": {},
     "output_type": "execute_result"
    }
   ],
   "source": [
    "hessian_beale(result.x)"
   ]
  },
  {
   "cell_type": "markdown",
   "id": "774dd64f-43a9-41b5-a3d5-776f5ec589b1",
   "metadata": {},
   "source": [
    "$$f(x) = 100 \\cdot (x_2 - x_1^2)^2 + (1 - x_1)^2 + 90 \\cdot (x_4 - x_3^2)^2 + (1 - x_3)^2 + 10 \\cdot (x_2 + x_4 - 2)^2 + \\frac{1}{10} \\cdot (x_2 - x_4)^2$$"
   ]
  },
  {
   "cell_type": "code",
   "execution_count": 82,
   "id": "d87add77-e79b-451d-89b8-236f7510d205",
   "metadata": {},
   "outputs": [],
   "source": [
    "def wood_function(x):\n",
    "    term1 = 100 * (x[1] - x[0]**2)**2\n",
    "    term2 = (1 - x[0])**2\n",
    "    term3 = 90 * (x[3] - x[2]**2)**2\n",
    "    term4 = (1 - x[2])**2\n",
    "    term5 = 10 * (x[1] + x[3] - 2)**2\n",
    "    term6 = (1/10) * (x[1] - x[3])**2\n",
    "    return term1 + term2 + term3 + term4 + term5 + term6"
   ]
  },
  {
   "cell_type": "markdown",
   "id": "47c5da8a-042b-4a5b-b8f0-f013bfac0a26",
   "metadata": {},
   "source": [
    "$$\n",
    "\\nabla f(x) = \\left[ -400 \\cdot x_1 \\cdot (x_2 - x_1^2) - 2 \\cdot (1 - x_1), \\, 200 \\cdot (x_2 - x_1^2) + 20 \\cdot (x_2 + x_4 - 2) + 0.2 \\cdot (x_2 - x_4), \\, -360 \\cdot x_3 \\cdot (x_4 - x_3^2) - 2 \\cdot (1 - x_3), \\, 180 \\cdot (x_4 - x_3^2) + 20 \\cdot (x_2 + x_4 - 2) - 0.2 \\cdot (x_2 - x_4) \\right]\n",
    "$$"
   ]
  },
  {
   "cell_type": "code",
   "execution_count": 83,
   "id": "baabaaa1-69ed-4209-aab7-46332c6ef8fc",
   "metadata": {},
   "outputs": [],
   "source": [
    "def wood_gradient(x):\n",
    "    df_dx1 = -400 * x[0] * (x[1] - x[0]**2) - 2 * (1 - x[0])\n",
    "    df_dx2 = 200 * (x[1] - x[0]**2) + 20 * (x[1] + x[3] - 2) + 0.2 * (x[1] - x[3])\n",
    "    df_dx3 = -360 * x[2] * (x[3] - x[2]**2) - 2 * (1 - x[2])\n",
    "    df_dx4 = 180 * (x[3] - x[2]**2) + 20 * (x[1] + x[3] - 2) - 0.2 * (x[1] - x[3])\n",
    "\n",
    "    gradient = np.array([df_dx1, df_dx2, df_dx3, df_dx4])\n",
    "    return gradient"
   ]
  },
  {
   "cell_type": "code",
   "execution_count": 84,
   "id": "825c7c1c-f8fd-47c4-9481-9f97c1d38885",
   "metadata": {},
   "outputs": [
    {
     "name": "stdout",
     "output_type": "stream",
     "text": [
      "Optimal solution: [0.99999968 0.99999938 1.00000019 1.0000004 ]\n",
      "Optimal function value: 7.954383299019438e-13\n",
      "Iterations: 86\n"
     ]
    }
   ],
   "source": [
    "# Initial guess\n",
    "initial_guess = np.array([-3, -1, -3, -1])\n",
    "iterations=[]\n",
    "# Minimize the Wood function\n",
    "result = minimize(wood_function, initial_guess, method='BFGS',callback=callback)\n",
    "\n",
    "# Print the result\n",
    "print(\"Optimal solution:\", result.x)\n",
    "print(\"Optimal function value:\", result.fun)\n",
    "print(\"Iterations:\",len(iterations))"
   ]
  },
  {
   "cell_type": "code",
   "execution_count": 85,
   "id": "fa460ebe-90e5-48fe-bbad-65e62bc0b8ad",
   "metadata": {},
   "outputs": [
    {
     "data": {
      "text/plain": [
       "array([-1.11018032e-05,  7.74132193e-07, -6.29806834e-06, -7.06321285e-07])"
      ]
     },
     "execution_count": 85,
     "metadata": {},
     "output_type": "execute_result"
    }
   ],
   "source": [
    "wood_gradient(result.x)"
   ]
  },
  {
   "cell_type": "markdown",
   "id": "29eb91f8-34c8-41f0-933a-17bf632e417a",
   "metadata": {},
   "source": [
    "$$\n",
    "\\mathbf{H}(x) = \\begin{bmatrix}\n",
    "1200x_1^2 - 400x_2 + 2 & -400x_1 & 0 & 0 \\\\\n",
    "-400x_1 & 220 + 20 & 0 & 20 \\\\\n",
    "0 & 0 & 1080x_3^2 - 360x_4 + 2 & -360x_3 \\\\\n",
    "0 & 20 & -360x_3 & 200 + 20 - 0.2\n",
    "\\end{bmatrix}\n",
    "$$"
   ]
  },
  {
   "cell_type": "code",
   "execution_count": 86,
   "id": "81cf410d-f391-4ec4-9d15-98902171cfde",
   "metadata": {},
   "outputs": [],
   "source": [
    "def wood_hessian(x):\n",
    "    h11 = 1200 * x[0]**2 - 400 * x[1] + 2\n",
    "    h12 = -400 * x[0]\n",
    "    h13 = 0\n",
    "    h14 = 0\n",
    "\n",
    "    h21 = -400 * x[0]\n",
    "    h22 = 220 + 20\n",
    "    h23 = 0\n",
    "    h24 = 20\n",
    "\n",
    "    h31 = 0\n",
    "    h32 = 0\n",
    "    h33 = 1080 * x[2]**2 - 360 * x[3] + 2\n",
    "    h34 = -360 * x[2]\n",
    "\n",
    "    h41 = 0\n",
    "    h42 = 20\n",
    "    h43 = -360 * x[2]\n",
    "    h44 = 200 + 20 - 0.2\n",
    "\n",
    "    hessian_matrix = np.array([[h11, h12, h13, h14],\n",
    "                               [h21, h22, h23, h24],\n",
    "                               [h31, h32, h33, h34],\n",
    "                               [h41, h42, h43, h44]])\n",
    "\n",
    "    return hessian_matrix"
   ]
  },
  {
   "cell_type": "code",
   "execution_count": 87,
   "id": "ea246bbe-111e-499d-badf-3dbc69bb4935",
   "metadata": {
    "scrolled": true
   },
   "outputs": [
    {
     "data": {
      "text/plain": [
       "array([[ 801.99947575, -399.99987155,    0.        ,    0.        ],\n",
       "       [-399.99987155,  240.        ,    0.        ,   20.        ],\n",
       "       [   0.        ,    0.        ,  722.00027047, -360.00006929],\n",
       "       [   0.        ,   20.        , -360.00006929,  219.8       ]])"
      ]
     },
     "execution_count": 87,
     "metadata": {},
     "output_type": "execute_result"
    }
   ],
   "source": [
    "wood_hessian(result.x)"
   ]
  },
  {
   "cell_type": "markdown",
   "id": "49861913-6176-4b02-ab6a-66bfa1b54442",
   "metadata": {},
   "source": [
    "$$\n",
    "\\text{chebyquad\\_function}(x) = \\left( \\sum_{i=1}^{n} T_i(x) \\right)^2\n",
    "$$ \n",
    "\n"
   ]
  },
  {
   "cell_type": "markdown",
   "id": "cc848d49-2c21-4a4f-835d-e58c591cd016",
   "metadata": {},
   "source": [
    "where $T_i(x)$  are Chebyshev polynomials of the first kind, and  is the length of the input vector $x.$"
   ]
  },
  {
   "cell_type": "markdown",
   "id": "3d35c9fd-b1ac-4c82-9b6c-b64e0adb4d46",
   "metadata": {},
   "source": [
    "$$\\nabla \\text{chebyquad\\_function}(x) = 2 \\left( \\sum_{i=1}^{n} T_i(x) \\right) \\sum_{i=1}^{n} \\nabla T_i(x)$$"
   ]
  },
  {
   "cell_type": "code",
   "execution_count": 88,
   "id": "bcff35d5-10b3-4037-9e0f-489862cfc487",
   "metadata": {},
   "outputs": [],
   "source": [
    "from numpy.polynomial import chebyshev\n",
    "def chebyquad_function(x):\n",
    "    n = len(x)\n",
    "    coefficients = [0] * (n - 1) + [1]\n",
    "    return np.linalg.norm(chebyshev.chebval(x, coefficients))"
   ]
  },
  {
   "cell_type": "code",
   "execution_count": 89,
   "id": "4869ca40-244c-43c9-a1d9-ea42ffd1354e",
   "metadata": {},
   "outputs": [
    {
     "name": "stdout",
     "output_type": "stream",
     "text": [
      "Optimal solution: [-1.29537067e-08  1.66052438e-09  4.33883736e-01  4.33883738e-01\n",
      "  4.33883739e-01  7.81831475e-01  7.81831480e-01  7.81831479e-01]\n",
      "Optimal function value: 1.3846731514262084e-07\n",
      "Iterations: 64\n"
     ]
    }
   ],
   "source": [
    "n=8\n",
    "initial_guess = np.array([j/(n+1) for j in range(1,n+1)])\n",
    "iterations=[]\n",
    "# Minimize the Wood function\n",
    "result = minimize(chebyquad_function, initial_guess, method='BFGS',callback=callback)\n",
    "\n",
    "# Print the result\n",
    "print(\"Optimal solution:\", result.x)\n",
    "print(\"Optimal function value:\", result.fun)\n",
    "print(\"Iterations:\",len(iterations))"
   ]
  },
  {
   "cell_type": "code",
   "execution_count": null,
   "id": "8581925b-5f2c-4967-ab35-205f53bdd57b",
   "metadata": {},
   "outputs": [],
   "source": []
  }
 ],
 "metadata": {
  "kernelspec": {
   "display_name": "Python 3 (ipykernel)",
   "language": "python",
   "name": "python3"
  },
  "language_info": {
   "codemirror_mode": {
    "name": "ipython",
    "version": 3
   },
   "file_extension": ".py",
   "mimetype": "text/x-python",
   "name": "python",
   "nbconvert_exporter": "python",
   "pygments_lexer": "ipython3",
   "version": "3.9.13"
  }
 },
 "nbformat": 4,
 "nbformat_minor": 5
}
